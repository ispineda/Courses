{
  "nbformat": 4,
  "nbformat_minor": 0,
  "metadata": {
    "colab": {
      "name": "Regresión Lineal.ipynb",
      "provenance": [],
      "mount_file_id": "1lIU8z_pDbKsH4XbXELBA2pm0-GMYY7pC",
      "authorship_tag": "ABX9TyOu7H4oo7d/1rFXq5nnyjX1",
      "include_colab_link": true
    },
    "kernelspec": {
      "name": "python3",
      "display_name": "Python 3"
    },
    "language_info": {
      "name": "python"
    }
  },
  "cells": [
    {
      "cell_type": "markdown",
      "metadata": {
        "id": "view-in-github",
        "colab_type": "text"
      },
      "source": [
        "<a href=\"https://colab.research.google.com/github/ispineda/Courses/blob/main/Machine-Learning/Regresi%C3%B3n_Lineal.ipynb\" target=\"_parent\"><img src=\"https://colab.research.google.com/assets/colab-badge.svg\" alt=\"Open In Colab\"/></a>"
      ]
    },
    {
      "cell_type": "code",
      "metadata": {
        "id": "9_Z_oPCMT1JY"
      },
      "source": [
        "import sqlite3\n",
        "import pandas as pd\n",
        "from sklearn.linear_model import LinearRegression\n",
        "from sklearn.model_selection import train_test_split\n",
        "from sklearn.metrics import mean_squared_error\n",
        "from math import sqrt\n",
        "from sklearn import preprocessing\n",
        "\n",
        "import matplotlib.pyplot as plt\n",
        "\n",
        "import seaborn as sns\n",
        "from sklearn.metrics import accuracy_score\n",
        "import numpy as np"
      ],
      "execution_count": 5,
      "outputs": []
    },
    {
      "cell_type": "code",
      "metadata": {
        "id": "cbZIMyrOUlsn"
      },
      "source": [
        "from google.colab import drive"
      ],
      "execution_count": 6,
      "outputs": []
    },
    {
      "cell_type": "code",
      "metadata": {
        "colab": {
          "base_uri": "https://localhost:8080/"
        },
        "id": "omJxaP0VJyXk",
        "outputId": "5890bc8b-73da-4a9a-e9ec-bf613df8ea9c"
      },
      "source": [
        "drive.mount('/content/drive')"
      ],
      "execution_count": 7,
      "outputs": [
        {
          "output_type": "stream",
          "name": "stdout",
          "text": [
            "Drive already mounted at /content/drive; to attempt to forcibly remount, call drive.mount(\"/content/drive\", force_remount=True).\n"
          ]
        }
      ]
    },
    {
      "cell_type": "code",
      "metadata": {
        "id": "SF5vW0XdJ8Cp"
      },
      "source": [
        "cnx =sqlite3.connect('/content/drive/MyDrive/Datasets/database.sqlite')"
      ],
      "execution_count": 8,
      "outputs": []
    },
    {
      "cell_type": "code",
      "metadata": {
        "id": "J_EVCRlAKcrp"
      },
      "source": [
        "df = pd.read_sql_query('SELECT * FROM Player_Attributes', cnx)"
      ],
      "execution_count": 9,
      "outputs": []
    },
    {
      "cell_type": "code",
      "metadata": {
        "colab": {
          "base_uri": "https://localhost:8080/"
        },
        "id": "2kM9bPmbK013",
        "outputId": "5e0afade-952f-421c-ffcb-e1688a8aedd9"
      },
      "source": [
        "df.head()\n",
        "df.dtypes"
      ],
      "execution_count": 14,
      "outputs": [
        {
          "output_type": "execute_result",
          "data": {
            "text/plain": [
              "id                       int64\n",
              "player_fifa_api_id       int64\n",
              "player_api_id            int64\n",
              "date                    object\n",
              "overall_rating         float64\n",
              "potential              float64\n",
              "preferred_foot          object\n",
              "attacking_work_rate     object\n",
              "defensive_work_rate     object\n",
              "crossing               float64\n",
              "finishing              float64\n",
              "heading_accuracy       float64\n",
              "short_passing          float64\n",
              "volleys                float64\n",
              "dribbling              float64\n",
              "curve                  float64\n",
              "free_kick_accuracy     float64\n",
              "long_passing           float64\n",
              "ball_control           float64\n",
              "acceleration           float64\n",
              "sprint_speed           float64\n",
              "agility                float64\n",
              "reactions              float64\n",
              "balance                float64\n",
              "shot_power             float64\n",
              "jumping                float64\n",
              "stamina                float64\n",
              "strength               float64\n",
              "long_shots             float64\n",
              "aggression             float64\n",
              "interceptions          float64\n",
              "positioning            float64\n",
              "vision                 float64\n",
              "penalties              float64\n",
              "marking                float64\n",
              "standing_tackle        float64\n",
              "sliding_tackle         float64\n",
              "gk_diving              float64\n",
              "gk_handling            float64\n",
              "gk_kicking             float64\n",
              "gk_positioning         float64\n",
              "gk_reflexes            float64\n",
              "dtype: object"
            ]
          },
          "metadata": {},
          "execution_count": 14
        }
      ]
    },
    {
      "cell_type": "code",
      "metadata": {
        "colab": {
          "base_uri": "https://localhost:8080/"
        },
        "id": "ZNS2-OmqK9fk",
        "outputId": "1bc20269-f983-4230-ce0f-2df2eee48fdd"
      },
      "source": [
        "df.columns"
      ],
      "execution_count": 12,
      "outputs": [
        {
          "output_type": "execute_result",
          "data": {
            "text/plain": [
              "Index(['id', 'player_fifa_api_id', 'player_api_id', 'date', 'overall_rating',\n",
              "       'potential', 'preferred_foot', 'attacking_work_rate',\n",
              "       'defensive_work_rate', 'crossing', 'finishing', 'heading_accuracy',\n",
              "       'short_passing', 'volleys', 'dribbling', 'curve', 'free_kick_accuracy',\n",
              "       'long_passing', 'ball_control', 'acceleration', 'sprint_speed',\n",
              "       'agility', 'reactions', 'balance', 'shot_power', 'jumping', 'stamina',\n",
              "       'strength', 'long_shots', 'aggression', 'interceptions', 'positioning',\n",
              "       'vision', 'penalties', 'marking', 'standing_tackle', 'sliding_tackle',\n",
              "       'gk_diving', 'gk_handling', 'gk_kicking', 'gk_positioning',\n",
              "       'gk_reflexes'],\n",
              "      dtype='object')"
            ]
          },
          "metadata": {},
          "execution_count": 12
        }
      ]
    },
    {
      "cell_type": "code",
      "metadata": {
        "id": "Zxhk8BPALFEK"
      },
      "source": [
        "features = [\n",
        "       'potential',\n",
        "       'crossing', 'finishing', 'heading_accuracy',\n",
        "       'short_passing', 'volleys', 'dribbling', 'curve', 'free_kick_accuracy',\n",
        "       'long_passing', 'ball_control', 'acceleration', 'sprint_speed',\n",
        "       'agility', 'reactions', 'balance', 'shot_power', 'jumping', 'stamina',\n",
        "       'strength', 'long_shots', 'aggression', 'interceptions', 'positioning',\n",
        "       'vision', 'penalties', 'marking', 'standing_tackle', 'sliding_tackle',\n",
        "       'gk_diving', 'gk_handling', 'gk_kicking', 'gk_positioning',\n",
        "       'gk_reflexes']"
      ],
      "execution_count": 15,
      "outputs": []
    },
    {
      "cell_type": "code",
      "metadata": {
        "id": "mor2cdNfMugB"
      },
      "source": [
        "target = ['overall_rating']"
      ],
      "execution_count": 16,
      "outputs": []
    },
    {
      "cell_type": "code",
      "metadata": {
        "id": "LlkG8IwJNAKa"
      },
      "source": [
        "df =df.dropna()"
      ],
      "execution_count": 17,
      "outputs": []
    },
    {
      "cell_type": "code",
      "metadata": {
        "id": "bO2hLqYGNDgJ"
      },
      "source": [
        "x = df[features]\n",
        "y = df[target]"
      ],
      "execution_count": 18,
      "outputs": []
    },
    {
      "cell_type": "code",
      "metadata": {
        "colab": {
          "base_uri": "https://localhost:8080/",
          "height": 282
        },
        "id": "9vymKEtgNMdV",
        "outputId": "36b936be-5923-46f1-ff99-94e0aa10b563"
      },
      "source": [
        "# Ejemplo de scatter plot\n",
        "plt.scatter(x['reactions'], y, color='darkgreen', label='Data', alpha=.1)"
      ],
      "execution_count": 25,
      "outputs": [
        {
          "output_type": "execute_result",
          "data": {
            "text/plain": [
              "<matplotlib.collections.PathCollection at 0x7f9e71fe9790>"
            ]
          },
          "metadata": {},
          "execution_count": 25
        },
        {
          "output_type": "display_data",
          "data": {
            "image/png": "[encoded data removed]",
            "text/plain": [
              "<Figure size 432x288 with 1 Axes>"
            ]
          },
          "metadata": {
            "needs_background": "light"
          }
        }
      ]
    },
    {
      "cell_type": "markdown",
      "metadata": {
        "id": "GxxLi7lYOENd"
      },
      "source": [
        "Separación de datos de training y test datasets"
      ]
    },
    {
      "cell_type": "code",
      "metadata": {
        "id": "Ho42BjV9NtMc"
      },
      "source": [
        "x_train, x_test, y_train, y_test = train_test_split(x, y, test_size=0.33, random_state=324)"
      ],
      "execution_count": 26,
      "outputs": []
    },
    {
      "cell_type": "code",
      "metadata": {
        "id": "Zybx2jdfOa_V"
      },
      "source": [
        "# Para evitar sesgar las muestras se recomienda escalar las maginitudes, esto a fin de homogenizar las escalas\n",
        "scale = preprocessing.StandardScaler() # Crea objeto\n",
        "scale.fit(x_train)  #Encaja valores en scale\n",
        "x_train = scale.transform(x_train) # Transforma valores y reasigna"
      ],
      "execution_count": 28,
      "outputs": []
    },
    {
      "cell_type": "code",
      "metadata": {
        "colab": {
          "base_uri": "https://localhost:8080/"
        },
        "id": "GCY873I_PKNp",
        "outputId": "0ae01b0b-d788-4f8f-b479-b88dba8c635a"
      },
      "source": [
        "x_train.max() # Corrobora la transformación"
      ],
      "execution_count": 29,
      "outputs": [
        {
          "output_type": "execute_result",
          "data": {
            "text/plain": [
              "4.9683467491419835"
            ]
          },
          "metadata": {},
          "execution_count": 29
        }
      ]
    },
    {
      "cell_type": "code",
      "metadata": {
        "id": "ixrS5LiWPRDy"
      },
      "source": [
        "regressor = LinearRegression() # Crea objeto para la regresión lineal"
      ],
      "execution_count": 31,
      "outputs": []
    },
    {
      "cell_type": "code",
      "metadata": {
        "colab": {
          "base_uri": "https://localhost:8080/"
        },
        "id": "xTS5bBiuPX5X",
        "outputId": "a1785840-ec37-4ab6-a68f-f94f9c994166"
      },
      "source": [
        "regressor.fit(x_train, y_train) # Crea el modelo de datos"
      ],
      "execution_count": 33,
      "outputs": [
        {
          "output_type": "execute_result",
          "data": {
            "text/plain": [
              "LinearRegression()"
            ]
          },
          "metadata": {},
          "execution_count": 33
        }
      ]
    },
    {
      "cell_type": "code",
      "metadata": {
        "colab": {
          "base_uri": "https://localhost:8080/"
        },
        "id": "LemO4T-2PtlD",
        "outputId": "6d212c47-5402-414e-d8cb-ace4b76a646c"
      },
      "source": [
        "# Para corroborar las predicciones se tiene...\n",
        "x_test = scale.transform(x_test) # Transformación del escalamiento\n",
        "y_prediction = regressor.predict(x_test) # Retorna los valores de la predicción\n",
        "y_result = y_prediction - y_test # Evalua el error sobre la muestra\n",
        "y_prediction.shape"
      ],
      "execution_count": 34,
      "outputs": [
        {
          "output_type": "execute_result",
          "data": {
            "text/plain": [
              "(59517, 1)"
            ]
          },
          "metadata": {},
          "execution_count": 34
        }
      ]
    },
    {
      "cell_type": "code",
      "metadata": {
        "colab": {
          "base_uri": "https://localhost:8080/"
        },
        "id": "NHTYLbuPQKLI",
        "outputId": "8aee6676-2038-42fc-f92f-d2415aa9a049"
      },
      "source": [
        "# Calcula la raiz cuadrada del error cuadratico medio\n",
        "RMSE = sqrt(mean_squared_error(y_true= y_test, y_pred= y_prediction))\n",
        "regressor.score(x_test, y_test)"
      ],
      "execution_count": 35,
      "outputs": [
        {
          "output_type": "execute_result",
          "data": {
            "text/plain": [
              "0.8412690897596595"
            ]
          },
          "metadata": {},
          "execution_count": 35
        }
      ]
    },
    {
      "cell_type": "code",
      "metadata": {
        "colab": {
          "base_uri": "https://localhost:8080/"
        },
        "id": "v4Q5LXzzQpEX",
        "outputId": "ad62bc78-acb0-4d82-c950-2279f106df59"
      },
      "source": [
        "print(RMSE)"
      ],
      "execution_count": 36,
      "outputs": [
        {
          "output_type": "stream",
          "name": "stdout",
          "text": [
            "2.80530304685521\n"
          ]
        }
      ]
    },
    {
      "cell_type": "code",
      "metadata": {
        "colab": {
          "base_uri": "https://localhost:8080/"
        },
        "id": "G3tiyD5QQyRt",
        "outputId": "d8e8a103-076b-4022-816a-72f6a17e18ad"
      },
      "source": [
        "regressor.coef_ # Muestra los coeficientes de W para el modelo polinomial"
      ],
      "execution_count": 37,
      "outputs": [
        {
          "output_type": "execute_result",
          "data": {
            "text/plain": [
              "array([[ 2.48175418,  0.37435166,  0.2155902 ,  1.14537904,  0.72579619,\n",
              "         0.08835762, -0.2396529 ,  0.20341906,  0.23070925,  0.08573083,\n",
              "         2.03147644,  0.08063536,  0.11593773, -0.09744622,  1.92780373,\n",
              "         0.10753058,  0.27833167,  0.16277628, -0.08089224,  0.73874625,\n",
              "        -0.25048481,  0.33897633,  0.22293067, -0.18511046, -0.01892236,\n",
              "         0.21517621,  0.70526674,  0.07880386, -0.61339243,  2.72376613,\n",
              "         0.51832172, -0.70907673,  0.91420565,  0.43578429]])"
            ]
          },
          "metadata": {},
          "execution_count": 37
        }
      ]
    }
  ]
}