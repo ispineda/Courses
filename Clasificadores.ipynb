{
  "nbformat": 4,
  "nbformat_minor": 0,
  "metadata": {
    "colab": {
      "name": "Clasificadores.ipynb",
      "provenance": [],
      "authorship_tag": "ABX9TyO7spUqS8DdojUmG3nTH2P4",
      "include_colab_link": true
    },
    "kernelspec": {
      "name": "python3",
      "display_name": "Python 3"
    },
    "language_info": {
      "name": "python"
    }
  },
  "cells": [
    {
      "cell_type": "markdown",
      "metadata": {
        "id": "view-in-github",
        "colab_type": "text"
      },
      "source": [
        "<a href=\"https://colab.research.google.com/github/ispineda/Courses/blob/main/Machine-Learning/Clasificadores.ipynb\" target=\"_parent\"><img src=\"https://colab.research.google.com/assets/colab-badge.svg\" alt=\"Open In Colab\"/></a>"
      ]
    },
    {
      "cell_type": "markdown",
      "metadata": {
        "id": "KQoI7kIfRfdj"
      },
      "source": [
        "# Clasificación multiclase\n",
        "\n",
        "Ejercicio Temperaturas\n",
        "\n",
        "## Clasificación binaria\n",
        "\n",
        "* No llueve \n",
        "* Llueve \n",
        "\n",
        "### Aprendizaje supervisado\n",
        "- Predice una categoría en función de las variables de entrada\n",
        "- La clasificación es una tarea supervisada\n",
        "- El objetivo es una variable categórica\n"
      ]
    },
    {
      "cell_type": "markdown",
      "metadata": {
        "id": "hSbYQNxlSjcg"
      },
      "source": [
        "## Algoritmos - Arboles de decisión\n",
        "Uso de librerías scikit-learn"
      ]
    },
    {
      "cell_type": "code",
      "metadata": {
        "colab": {
          "base_uri": "https://localhost:8080/"
        },
        "id": "PeFJtJEvTpzg",
        "outputId": "adbfb93d-e7d0-4c0c-da48-ba958531ecc9"
      },
      "source": [
        "!pip install sklearn"
      ],
      "execution_count": 1,
      "outputs": [
        {
          "output_type": "stream",
          "name": "stdout",
          "text": [
            "Requirement already satisfied: sklearn in /usr/local/lib/python3.7/dist-packages (0.0)\n",
            "Requirement already satisfied: scikit-learn in /usr/local/lib/python3.7/dist-packages (from sklearn) (1.0.1)\n",
            "Requirement already satisfied: threadpoolctl>=2.0.0 in /usr/local/lib/python3.7/dist-packages (from scikit-learn->sklearn) (3.0.0)\n",
            "Requirement already satisfied: scipy>=1.1.0 in /usr/local/lib/python3.7/dist-packages (from scikit-learn->sklearn) (1.4.1)\n",
            "Requirement already satisfied: joblib>=0.11 in /usr/local/lib/python3.7/dist-packages (from scikit-learn->sklearn) (1.1.0)\n",
            "Requirement already satisfied: numpy>=1.14.6 in /usr/local/lib/python3.7/dist-packages (from scikit-learn->sklearn) (1.19.5)\n"
          ]
        }
      ]
    },
    {
      "cell_type": "code",
      "metadata": {
        "id": "45OFIKDBRZGR"
      },
      "source": [
        "import pandas as pd\n",
        "from sklearn.metrics import accuracy_score\n",
        "from sklearn.model_selection import train_test_split\n",
        "from sklearn.tree import DecisionTreeClassifier"
      ],
      "execution_count": 2,
      "outputs": []
    },
    {
      "cell_type": "code",
      "metadata": {
        "id": "o3McgrVuUh6O"
      },
      "source": [
        "from google.colab import drive"
      ],
      "execution_count": 3,
      "outputs": []
    },
    {
      "cell_type": "code",
      "metadata": {
        "colab": {
          "base_uri": "https://localhost:8080/"
        },
        "id": "o31lNjFFUloc",
        "outputId": "2d146acc-a0e7-42aa-c02d-f63e06b7ef93"
      },
      "source": [
        "drive.mount('/content/drive')"
      ],
      "execution_count": 4,
      "outputs": [
        {
          "output_type": "stream",
          "name": "stdout",
          "text": [
            "Mounted at /content/drive\n"
          ]
        }
      ]
    },
    {
      "cell_type": "code",
      "metadata": {
        "id": "A39KBqvaUCtH"
      },
      "source": [
        "df = pd.read_csv('/content/drive/MyDrive/Datasets/diario.csv')"
      ],
      "execution_count": 5,
      "outputs": []
    },
    {
      "cell_type": "code",
      "metadata": {
        "colab": {
          "base_uri": "https://localhost:8080/",
          "height": 224
        },
        "id": "C6TCRy0QVFIg",
        "outputId": "d922e0a9-7575-40e9-daae-fe1631193104"
      },
      "source": [
        "df.head()"
      ],
      "execution_count": 6,
      "outputs": [
        {
          "output_type": "execute_result",
          "data": {
            "text/html": [
              "<div>\n",
              "<style scoped>\n",
              "    .dataframe tbody tr th:only-of-type {\n",
              "        vertical-align: middle;\n",
              "    }\n",
              "\n",
              "    .dataframe tbody tr th {\n",
              "        vertical-align: top;\n",
              "    }\n",
              "\n",
              "    .dataframe thead th {\n",
              "        text-align: right;\n",
              "    }\n",
              "</style>\n",
              "<table border=\"1\" class=\"dataframe\">\n",
              "  <thead>\n",
              "    <tr style=\"text-align: right;\">\n",
              "      <th></th>\n",
              "      <th>number</th>\n",
              "      <th>air_pressure_9am</th>\n",
              "      <th>air_temp_9am</th>\n",
              "      <th>avg_wind_direction_9am</th>\n",
              "      <th>avg_wind_speed_9am</th>\n",
              "      <th>max_wind_direction_9am</th>\n",
              "      <th>max_wind_speed_9am</th>\n",
              "      <th>rain_accumulation_9am</th>\n",
              "      <th>rain_duration_9am</th>\n",
              "      <th>relative_humidity_9am</th>\n",
              "      <th>relative_humidity_3pm</th>\n",
              "    </tr>\n",
              "  </thead>\n",
              "  <tbody>\n",
              "    <tr>\n",
              "      <th>0</th>\n",
              "      <td>0</td>\n",
              "      <td>918.060000</td>\n",
              "      <td>74.822000</td>\n",
              "      <td>271.100000</td>\n",
              "      <td>2.080354</td>\n",
              "      <td>295.400000</td>\n",
              "      <td>2.863283</td>\n",
              "      <td>0.0</td>\n",
              "      <td>0.0</td>\n",
              "      <td>42.420000</td>\n",
              "      <td>36.160000</td>\n",
              "    </tr>\n",
              "    <tr>\n",
              "      <th>1</th>\n",
              "      <td>1</td>\n",
              "      <td>917.347688</td>\n",
              "      <td>71.403843</td>\n",
              "      <td>101.935179</td>\n",
              "      <td>2.443009</td>\n",
              "      <td>140.471548</td>\n",
              "      <td>3.533324</td>\n",
              "      <td>0.0</td>\n",
              "      <td>0.0</td>\n",
              "      <td>24.328697</td>\n",
              "      <td>19.426597</td>\n",
              "    </tr>\n",
              "    <tr>\n",
              "      <th>2</th>\n",
              "      <td>2</td>\n",
              "      <td>923.040000</td>\n",
              "      <td>60.638000</td>\n",
              "      <td>51.000000</td>\n",
              "      <td>17.067852</td>\n",
              "      <td>63.700000</td>\n",
              "      <td>22.100967</td>\n",
              "      <td>0.0</td>\n",
              "      <td>20.0</td>\n",
              "      <td>8.900000</td>\n",
              "      <td>14.460000</td>\n",
              "    </tr>\n",
              "    <tr>\n",
              "      <th>3</th>\n",
              "      <td>3</td>\n",
              "      <td>920.502751</td>\n",
              "      <td>70.138895</td>\n",
              "      <td>198.832133</td>\n",
              "      <td>4.337363</td>\n",
              "      <td>211.203341</td>\n",
              "      <td>5.190045</td>\n",
              "      <td>0.0</td>\n",
              "      <td>0.0</td>\n",
              "      <td>12.189102</td>\n",
              "      <td>12.742547</td>\n",
              "    </tr>\n",
              "    <tr>\n",
              "      <th>4</th>\n",
              "      <td>4</td>\n",
              "      <td>921.160000</td>\n",
              "      <td>44.294000</td>\n",
              "      <td>277.800000</td>\n",
              "      <td>1.856660</td>\n",
              "      <td>136.500000</td>\n",
              "      <td>2.863283</td>\n",
              "      <td>8.9</td>\n",
              "      <td>14730.0</td>\n",
              "      <td>92.410000</td>\n",
              "      <td>76.740000</td>\n",
              "    </tr>\n",
              "  </tbody>\n",
              "</table>\n",
              "</div>"
            ],
            "text/plain": [
              "   number  air_pressure_9am  ...  relative_humidity_9am  relative_humidity_3pm\n",
              "0       0        918.060000  ...              42.420000              36.160000\n",
              "1       1        917.347688  ...              24.328697              19.426597\n",
              "2       2        923.040000  ...               8.900000              14.460000\n",
              "3       3        920.502751  ...              12.189102              12.742547\n",
              "4       4        921.160000  ...              92.410000              76.740000\n",
              "\n",
              "[5 rows x 11 columns]"
            ]
          },
          "metadata": {},
          "execution_count": 6
        }
      ]
    },
    {
      "cell_type": "code",
      "metadata": {
        "colab": {
          "base_uri": "https://localhost:8080/",
          "height": 1000
        },
        "id": "IRMrZqPZVsbk",
        "outputId": "32e33543-d383-45a4-bf89-e7ca7c11fc3c"
      },
      "source": [
        "# Verifica si existe nulos a lo largo de los registros\n",
        "df[df.isnull().any(axis=1)]"
      ],
      "execution_count": 9,
      "outputs": [
        {
          "output_type": "execute_result",
          "data": {
            "text/html": [
              "<div>\n",
              "<style scoped>\n",
              "    .dataframe tbody tr th:only-of-type {\n",
              "        vertical-align: middle;\n",
              "    }\n",
              "\n",
              "    .dataframe tbody tr th {\n",
              "        vertical-align: top;\n",
              "    }\n",
              "\n",
              "    .dataframe thead th {\n",
              "        text-align: right;\n",
              "    }\n",
              "</style>\n",
              "<table border=\"1\" class=\"dataframe\">\n",
              "  <thead>\n",
              "    <tr style=\"text-align: right;\">\n",
              "      <th></th>\n",
              "      <th>number</th>\n",
              "      <th>air_pressure_9am</th>\n",
              "      <th>air_temp_9am</th>\n",
              "      <th>avg_wind_direction_9am</th>\n",
              "      <th>avg_wind_speed_9am</th>\n",
              "      <th>max_wind_direction_9am</th>\n",
              "      <th>max_wind_speed_9am</th>\n",
              "      <th>rain_accumulation_9am</th>\n",
              "      <th>rain_duration_9am</th>\n",
              "      <th>relative_humidity_9am</th>\n",
              "      <th>relative_humidity_3pm</th>\n",
              "    </tr>\n",
              "  </thead>\n",
              "  <tbody>\n",
              "    <tr>\n",
              "      <th>16</th>\n",
              "      <td>16</td>\n",
              "      <td>917.890000</td>\n",
              "      <td>NaN</td>\n",
              "      <td>169.200000</td>\n",
              "      <td>2.192201</td>\n",
              "      <td>196.800000</td>\n",
              "      <td>2.930391</td>\n",
              "      <td>0.000</td>\n",
              "      <td>0.000000</td>\n",
              "      <td>48.990000</td>\n",
              "      <td>51.190000</td>\n",
              "    </tr>\n",
              "    <tr>\n",
              "      <th>111</th>\n",
              "      <td>111</td>\n",
              "      <td>915.290000</td>\n",
              "      <td>58.820000</td>\n",
              "      <td>182.600000</td>\n",
              "      <td>15.613841</td>\n",
              "      <td>189.000000</td>\n",
              "      <td>NaN</td>\n",
              "      <td>0.000</td>\n",
              "      <td>0.000000</td>\n",
              "      <td>21.500000</td>\n",
              "      <td>29.690000</td>\n",
              "    </tr>\n",
              "    <tr>\n",
              "      <th>177</th>\n",
              "      <td>177</td>\n",
              "      <td>915.900000</td>\n",
              "      <td>NaN</td>\n",
              "      <td>183.300000</td>\n",
              "      <td>4.719943</td>\n",
              "      <td>189.900000</td>\n",
              "      <td>5.346287</td>\n",
              "      <td>0.000</td>\n",
              "      <td>0.000000</td>\n",
              "      <td>29.260000</td>\n",
              "      <td>46.500000</td>\n",
              "    </tr>\n",
              "    <tr>\n",
              "      <th>262</th>\n",
              "      <td>262</td>\n",
              "      <td>923.596607</td>\n",
              "      <td>58.380598</td>\n",
              "      <td>47.737753</td>\n",
              "      <td>10.636273</td>\n",
              "      <td>67.145843</td>\n",
              "      <td>13.671423</td>\n",
              "      <td>0.000</td>\n",
              "      <td>NaN</td>\n",
              "      <td>17.990876</td>\n",
              "      <td>16.461685</td>\n",
              "    </tr>\n",
              "    <tr>\n",
              "      <th>277</th>\n",
              "      <td>277</td>\n",
              "      <td>920.480000</td>\n",
              "      <td>62.600000</td>\n",
              "      <td>194.400000</td>\n",
              "      <td>2.751436</td>\n",
              "      <td>NaN</td>\n",
              "      <td>3.869906</td>\n",
              "      <td>0.000</td>\n",
              "      <td>0.000000</td>\n",
              "      <td>52.580000</td>\n",
              "      <td>54.030000</td>\n",
              "    </tr>\n",
              "    <tr>\n",
              "      <th>334</th>\n",
              "      <td>334</td>\n",
              "      <td>916.230000</td>\n",
              "      <td>75.740000</td>\n",
              "      <td>149.100000</td>\n",
              "      <td>2.751436</td>\n",
              "      <td>187.500000</td>\n",
              "      <td>4.183078</td>\n",
              "      <td>NaN</td>\n",
              "      <td>1480.000000</td>\n",
              "      <td>31.880000</td>\n",
              "      <td>32.900000</td>\n",
              "    </tr>\n",
              "    <tr>\n",
              "      <th>358</th>\n",
              "      <td>358</td>\n",
              "      <td>917.440000</td>\n",
              "      <td>58.514000</td>\n",
              "      <td>55.100000</td>\n",
              "      <td>10.021491</td>\n",
              "      <td>NaN</td>\n",
              "      <td>12.705819</td>\n",
              "      <td>0.000</td>\n",
              "      <td>0.000000</td>\n",
              "      <td>13.880000</td>\n",
              "      <td>25.930000</td>\n",
              "    </tr>\n",
              "    <tr>\n",
              "      <th>361</th>\n",
              "      <td>361</td>\n",
              "      <td>920.444946</td>\n",
              "      <td>65.801845</td>\n",
              "      <td>49.823346</td>\n",
              "      <td>21.520177</td>\n",
              "      <td>61.886944</td>\n",
              "      <td>25.549112</td>\n",
              "      <td>NaN</td>\n",
              "      <td>40.364018</td>\n",
              "      <td>12.278715</td>\n",
              "      <td>7.618649</td>\n",
              "    </tr>\n",
              "    <tr>\n",
              "      <th>381</th>\n",
              "      <td>381</td>\n",
              "      <td>918.480000</td>\n",
              "      <td>66.542000</td>\n",
              "      <td>90.900000</td>\n",
              "      <td>3.467257</td>\n",
              "      <td>89.400000</td>\n",
              "      <td>4.406772</td>\n",
              "      <td>NaN</td>\n",
              "      <td>0.000000</td>\n",
              "      <td>20.640000</td>\n",
              "      <td>14.350000</td>\n",
              "    </tr>\n",
              "    <tr>\n",
              "      <th>409</th>\n",
              "      <td>409</td>\n",
              "      <td>NaN</td>\n",
              "      <td>67.853833</td>\n",
              "      <td>65.880616</td>\n",
              "      <td>4.328594</td>\n",
              "      <td>78.570923</td>\n",
              "      <td>5.216734</td>\n",
              "      <td>0.000</td>\n",
              "      <td>0.000000</td>\n",
              "      <td>18.487385</td>\n",
              "      <td>20.356594</td>\n",
              "    </tr>\n",
              "    <tr>\n",
              "      <th>517</th>\n",
              "      <td>517</td>\n",
              "      <td>920.570000</td>\n",
              "      <td>53.600000</td>\n",
              "      <td>100.100000</td>\n",
              "      <td>4.697574</td>\n",
              "      <td>NaN</td>\n",
              "      <td>6.285801</td>\n",
              "      <td>4.712</td>\n",
              "      <td>14842.000000</td>\n",
              "      <td>79.880000</td>\n",
              "      <td>84.530000</td>\n",
              "    </tr>\n",
              "    <tr>\n",
              "      <th>519</th>\n",
              "      <td>519</td>\n",
              "      <td>916.250000</td>\n",
              "      <td>55.670000</td>\n",
              "      <td>176.400000</td>\n",
              "      <td>6.666081</td>\n",
              "      <td>188.200000</td>\n",
              "      <td>NaN</td>\n",
              "      <td>0.000</td>\n",
              "      <td>0.000000</td>\n",
              "      <td>72.550000</td>\n",
              "      <td>74.390000</td>\n",
              "    </tr>\n",
              "    <tr>\n",
              "      <th>546</th>\n",
              "      <td>546</td>\n",
              "      <td>NaN</td>\n",
              "      <td>42.746000</td>\n",
              "      <td>251.100000</td>\n",
              "      <td>12.929513</td>\n",
              "      <td>274.400000</td>\n",
              "      <td>17.604718</td>\n",
              "      <td>14.627</td>\n",
              "      <td>7825.000000</td>\n",
              "      <td>87.870000</td>\n",
              "      <td>70.770000</td>\n",
              "    </tr>\n",
              "    <tr>\n",
              "      <th>620</th>\n",
              "      <td>620</td>\n",
              "      <td>921.200000</td>\n",
              "      <td>56.786000</td>\n",
              "      <td>192.300000</td>\n",
              "      <td>9.551734</td>\n",
              "      <td>201.400000</td>\n",
              "      <td>11.005745</td>\n",
              "      <td>NaN</td>\n",
              "      <td>0.000000</td>\n",
              "      <td>59.790000</td>\n",
              "      <td>77.750000</td>\n",
              "    </tr>\n",
              "    <tr>\n",
              "      <th>625</th>\n",
              "      <td>625</td>\n",
              "      <td>912.400000</td>\n",
              "      <td>50.774000</td>\n",
              "      <td>171.600000</td>\n",
              "      <td>NaN</td>\n",
              "      <td>181.400000</td>\n",
              "      <td>4.831790</td>\n",
              "      <td>0.000</td>\n",
              "      <td>0.000000</td>\n",
              "      <td>86.840000</td>\n",
              "      <td>64.740000</td>\n",
              "    </tr>\n",
              "    <tr>\n",
              "      <th>656</th>\n",
              "      <td>656</td>\n",
              "      <td>920.830000</td>\n",
              "      <td>66.344000</td>\n",
              "      <td>NaN</td>\n",
              "      <td>15.457255</td>\n",
              "      <td>189.400000</td>\n",
              "      <td>16.486248</td>\n",
              "      <td>0.000</td>\n",
              "      <td>0.000000</td>\n",
              "      <td>23.770000</td>\n",
              "      <td>51.630000</td>\n",
              "    </tr>\n",
              "    <tr>\n",
              "      <th>670</th>\n",
              "      <td>670</td>\n",
              "      <td>910.920000</td>\n",
              "      <td>48.362000</td>\n",
              "      <td>156.500000</td>\n",
              "      <td>NaN</td>\n",
              "      <td>177.500000</td>\n",
              "      <td>16.128337</td>\n",
              "      <td>4.970</td>\n",
              "      <td>10560.000000</td>\n",
              "      <td>80.560000</td>\n",
              "      <td>88.220000</td>\n",
              "    </tr>\n",
              "    <tr>\n",
              "      <th>672</th>\n",
              "      <td>672</td>\n",
              "      <td>922.448945</td>\n",
              "      <td>72.863773</td>\n",
              "      <td>NaN</td>\n",
              "      <td>3.682370</td>\n",
              "      <td>214.196160</td>\n",
              "      <td>4.849450</td>\n",
              "      <td>0.000</td>\n",
              "      <td>0.000000</td>\n",
              "      <td>16.753670</td>\n",
              "      <td>17.804720</td>\n",
              "    </tr>\n",
              "    <tr>\n",
              "      <th>705</th>\n",
              "      <td>705</td>\n",
              "      <td>911.900000</td>\n",
              "      <td>59.072000</td>\n",
              "      <td>199.800000</td>\n",
              "      <td>1.275056</td>\n",
              "      <td>239.500000</td>\n",
              "      <td>1.834291</td>\n",
              "      <td>NaN</td>\n",
              "      <td>0.000000</td>\n",
              "      <td>77.630000</td>\n",
              "      <td>59.130000</td>\n",
              "    </tr>\n",
              "    <tr>\n",
              "      <th>731</th>\n",
              "      <td>731</td>\n",
              "      <td>922.970166</td>\n",
              "      <td>51.391847</td>\n",
              "      <td>33.810942</td>\n",
              "      <td>NaN</td>\n",
              "      <td>59.290089</td>\n",
              "      <td>11.111555</td>\n",
              "      <td>0.000</td>\n",
              "      <td>4.735034</td>\n",
              "      <td>34.807753</td>\n",
              "      <td>18.418179</td>\n",
              "    </tr>\n",
              "    <tr>\n",
              "      <th>737</th>\n",
              "      <td>737</td>\n",
              "      <td>917.895130</td>\n",
              "      <td>76.804690</td>\n",
              "      <td>104.771020</td>\n",
              "      <td>1.632705</td>\n",
              "      <td>97.178763</td>\n",
              "      <td>NaN</td>\n",
              "      <td>0.000</td>\n",
              "      <td>0.000000</td>\n",
              "      <td>13.771311</td>\n",
              "      <td>16.792455</td>\n",
              "    </tr>\n",
              "    <tr>\n",
              "      <th>788</th>\n",
              "      <td>788</td>\n",
              "      <td>917.923442</td>\n",
              "      <td>73.249717</td>\n",
              "      <td>42.101739</td>\n",
              "      <td>4.132698</td>\n",
              "      <td>64.284969</td>\n",
              "      <td>5.345258</td>\n",
              "      <td>0.000</td>\n",
              "      <td>NaN</td>\n",
              "      <td>6.939692</td>\n",
              "      <td>18.793825</td>\n",
              "    </tr>\n",
              "    <tr>\n",
              "      <th>840</th>\n",
              "      <td>840</td>\n",
              "      <td>918.043767</td>\n",
              "      <td>NaN</td>\n",
              "      <td>181.774042</td>\n",
              "      <td>0.964376</td>\n",
              "      <td>185.618601</td>\n",
              "      <td>1.570007</td>\n",
              "      <td>0.000</td>\n",
              "      <td>0.000000</td>\n",
              "      <td>11.911222</td>\n",
              "      <td>18.154358</td>\n",
              "    </tr>\n",
              "    <tr>\n",
              "      <th>848</th>\n",
              "      <td>848</td>\n",
              "      <td>915.250000</td>\n",
              "      <td>37.562000</td>\n",
              "      <td>246.500000</td>\n",
              "      <td>11.587349</td>\n",
              "      <td>258.700000</td>\n",
              "      <td>NaN</td>\n",
              "      <td>3.171</td>\n",
              "      <td>2891.000000</td>\n",
              "      <td>91.000000</td>\n",
              "      <td>90.780000</td>\n",
              "    </tr>\n",
              "    <tr>\n",
              "      <th>861</th>\n",
              "      <td>861</td>\n",
              "      <td>919.065408</td>\n",
              "      <td>NaN</td>\n",
              "      <td>172.303728</td>\n",
              "      <td>2.639600</td>\n",
              "      <td>193.058141</td>\n",
              "      <td>3.326949</td>\n",
              "      <td>0.000</td>\n",
              "      <td>0.000000</td>\n",
              "      <td>12.497839</td>\n",
              "      <td>13.438518</td>\n",
              "    </tr>\n",
              "    <tr>\n",
              "      <th>869</th>\n",
              "      <td>869</td>\n",
              "      <td>NaN</td>\n",
              "      <td>45.104000</td>\n",
              "      <td>259.000000</td>\n",
              "      <td>3.265932</td>\n",
              "      <td>275.000000</td>\n",
              "      <td>4.026492</td>\n",
              "      <td>0.000</td>\n",
              "      <td>80.000000</td>\n",
              "      <td>85.270000</td>\n",
              "      <td>90.260000</td>\n",
              "    </tr>\n",
              "    <tr>\n",
              "      <th>998</th>\n",
              "      <td>998</td>\n",
              "      <td>914.140000</td>\n",
              "      <td>71.240000</td>\n",
              "      <td>NaN</td>\n",
              "      <td>1.722444</td>\n",
              "      <td>232.900000</td>\n",
              "      <td>2.326418</td>\n",
              "      <td>0.000</td>\n",
              "      <td>0.000000</td>\n",
              "      <td>24.200000</td>\n",
              "      <td>41.380000</td>\n",
              "    </tr>\n",
              "    <tr>\n",
              "      <th>1031</th>\n",
              "      <td>1031</td>\n",
              "      <td>922.669195</td>\n",
              "      <td>NaN</td>\n",
              "      <td>47.946284</td>\n",
              "      <td>7.969686</td>\n",
              "      <td>65.770066</td>\n",
              "      <td>10.262337</td>\n",
              "      <td>0.000</td>\n",
              "      <td>0.000000</td>\n",
              "      <td>18.920805</td>\n",
              "      <td>19.641841</td>\n",
              "    </tr>\n",
              "    <tr>\n",
              "      <th>1035</th>\n",
              "      <td>1035</td>\n",
              "      <td>919.670000</td>\n",
              "      <td>77.576000</td>\n",
              "      <td>171.800000</td>\n",
              "      <td>6.554234</td>\n",
              "      <td>191.000000</td>\n",
              "      <td>8.164831</td>\n",
              "      <td>0.000</td>\n",
              "      <td>NaN</td>\n",
              "      <td>56.860000</td>\n",
              "      <td>50.650000</td>\n",
              "    </tr>\n",
              "    <tr>\n",
              "      <th>1063</th>\n",
              "      <td>1063</td>\n",
              "      <td>917.300185</td>\n",
              "      <td>65.790001</td>\n",
              "      <td>NaN</td>\n",
              "      <td>1.879553</td>\n",
              "      <td>222.498226</td>\n",
              "      <td>2.692862</td>\n",
              "      <td>0.000</td>\n",
              "      <td>0.000000</td>\n",
              "      <td>14.972668</td>\n",
              "      <td>20.966267</td>\n",
              "    </tr>\n",
              "    <tr>\n",
              "      <th>1066</th>\n",
              "      <td>1066</td>\n",
              "      <td>919.564869</td>\n",
              "      <td>73.726732</td>\n",
              "      <td>68.704694</td>\n",
              "      <td>3.551777</td>\n",
              "      <td>102.571616</td>\n",
              "      <td>4.861315</td>\n",
              "      <td>NaN</td>\n",
              "      <td>0.000000</td>\n",
              "      <td>11.657314</td>\n",
              "      <td>17.331823</td>\n",
              "    </tr>\n",
              "  </tbody>\n",
              "</table>\n",
              "</div>"
            ],
            "text/plain": [
              "      number  air_pressure_9am  ...  relative_humidity_9am  relative_humidity_3pm\n",
              "16        16        917.890000  ...              48.990000              51.190000\n",
              "111      111        915.290000  ...              21.500000              29.690000\n",
              "177      177        915.900000  ...              29.260000              46.500000\n",
              "262      262        923.596607  ...              17.990876              16.461685\n",
              "277      277        920.480000  ...              52.580000              54.030000\n",
              "334      334        916.230000  ...              31.880000              32.900000\n",
              "358      358        917.440000  ...              13.880000              25.930000\n",
              "361      361        920.444946  ...              12.278715               7.618649\n",
              "381      381        918.480000  ...              20.640000              14.350000\n",
              "409      409               NaN  ...              18.487385              20.356594\n",
              "517      517        920.570000  ...              79.880000              84.530000\n",
              "519      519        916.250000  ...              72.550000              74.390000\n",
              "546      546               NaN  ...              87.870000              70.770000\n",
              "620      620        921.200000  ...              59.790000              77.750000\n",
              "625      625        912.400000  ...              86.840000              64.740000\n",
              "656      656        920.830000  ...              23.770000              51.630000\n",
              "670      670        910.920000  ...              80.560000              88.220000\n",
              "672      672        922.448945  ...              16.753670              17.804720\n",
              "705      705        911.900000  ...              77.630000              59.130000\n",
              "731      731        922.970166  ...              34.807753              18.418179\n",
              "737      737        917.895130  ...              13.771311              16.792455\n",
              "788      788        917.923442  ...               6.939692              18.793825\n",
              "840      840        918.043767  ...              11.911222              18.154358\n",
              "848      848        915.250000  ...              91.000000              90.780000\n",
              "861      861        919.065408  ...              12.497839              13.438518\n",
              "869      869               NaN  ...              85.270000              90.260000\n",
              "998      998        914.140000  ...              24.200000              41.380000\n",
              "1031    1031        922.669195  ...              18.920805              19.641841\n",
              "1035    1035        919.670000  ...              56.860000              50.650000\n",
              "1063    1063        917.300185  ...              14.972668              20.966267\n",
              "1066    1066        919.564869  ...              11.657314              17.331823\n",
              "\n",
              "[31 rows x 11 columns]"
            ]
          },
          "metadata": {},
          "execution_count": 9
        }
      ]
    },
    {
      "cell_type": "code",
      "metadata": {
        "id": "O38bCsIOWFTJ"
      },
      "source": [
        "del df['number']"
      ],
      "execution_count": 10,
      "outputs": []
    },
    {
      "cell_type": "code",
      "metadata": {
        "colab": {
          "base_uri": "https://localhost:8080/"
        },
        "id": "AdT54RnBWNnD",
        "outputId": "08c4ca36-5ee9-4180-c276-213916353c0c"
      },
      "source": [
        "filas_actuales, _ = df.shape\n",
        "filas_actuales"
      ],
      "execution_count": 20,
      "outputs": [
        {
          "output_type": "execute_result",
          "data": {
            "text/plain": [
              "1064"
            ]
          },
          "metadata": {},
          "execution_count": 20
        }
      ]
    },
    {
      "cell_type": "code",
      "metadata": {
        "colab": {
          "base_uri": "https://localhost:8080/"
        },
        "id": "W0qTlnqOWUCh",
        "outputId": "0b32a0d3-7c09-45e6-83f9-47a24ff2acf5"
      },
      "source": [
        "df = df.dropna()\n",
        "filas_despues_drop, _ = df.shape\n",
        "filas_despues_drop"
      ],
      "execution_count": 21,
      "outputs": [
        {
          "output_type": "execute_result",
          "data": {
            "text/plain": [
              "1064"
            ]
          },
          "metadata": {},
          "execution_count": 21
        }
      ]
    },
    {
      "cell_type": "code",
      "metadata": {
        "colab": {
          "base_uri": "https://localhost:8080/"
        },
        "id": "NSaRdM7zWbbP",
        "outputId": "c413bc14-b039-4999-a190-226cd3fa3019"
      },
      "source": [
        "print(filas_actuales - filas_despues_drop)"
      ],
      "execution_count": 18,
      "outputs": [
        {
          "output_type": "stream",
          "name": "stdout",
          "text": [
            "31\n"
          ]
        }
      ]
    },
    {
      "cell_type": "markdown",
      "metadata": {
        "id": "36haTqfYXBUT"
      },
      "source": [
        "## Aplicación del clasificador"
      ]
    },
    {
      "cell_type": "code",
      "metadata": {
        "colab": {
          "base_uri": "https://localhost:8080/"
        },
        "id": "UUDZcdiBW5ao",
        "outputId": "aa46002f-001a-45da-a8d2-884411408925"
      },
      "source": [
        "clean_data = df.copy() # Copia de la data\n",
        "clean_data['high_humidity_label'] = (clean_data['relative_humidity_3pm']>24.99)*1 # Filtra y transforma en números\n",
        "print(clean_data['high_humidity_label']) # Imprime"
      ],
      "execution_count": 24,
      "outputs": [
        {
          "output_type": "stream",
          "name": "stdout",
          "text": [
            "0       1\n",
            "1       0\n",
            "2       0\n",
            "3       0\n",
            "4       1\n",
            "       ..\n",
            "1090    1\n",
            "1091    1\n",
            "1092    1\n",
            "1093    1\n",
            "1094    0\n",
            "Name: high_humidity_label, Length: 1064, dtype: int64\n"
          ]
        }
      ]
    },
    {
      "cell_type": "code",
      "metadata": {
        "colab": {
          "base_uri": "https://localhost:8080/"
        },
        "id": "eAsbu4n-XuWg",
        "outputId": "5661ac52-151c-4510-ecef-1aac2f34bc24"
      },
      "source": [
        "y = clean_data['high_humidity_label'].copy()\n",
        "y.head()"
      ],
      "execution_count": 25,
      "outputs": [
        {
          "output_type": "execute_result",
          "data": {
            "text/plain": [
              "0    1\n",
              "1    0\n",
              "2    0\n",
              "3    0\n",
              "4    1\n",
              "Name: high_humidity_label, dtype: int64"
            ]
          },
          "metadata": {},
          "execution_count": 25
        }
      ]
    },
    {
      "cell_type": "code",
      "metadata": {
        "colab": {
          "base_uri": "https://localhost:8080/"
        },
        "id": "GNzX-VdKYAvg",
        "outputId": "c4a3f0db-752c-41b9-d169-36f964cca53b"
      },
      "source": [
        "df.columns"
      ],
      "execution_count": 26,
      "outputs": [
        {
          "output_type": "execute_result",
          "data": {
            "text/plain": [
              "Index(['air_pressure_9am', 'air_temp_9am', 'avg_wind_direction_9am',\n",
              "       'avg_wind_speed_9am', 'max_wind_direction_9am', 'max_wind_speed_9am',\n",
              "       'rain_accumulation_9am', 'rain_duration_9am', 'relative_humidity_9am',\n",
              "       'relative_humidity_3pm'],\n",
              "      dtype='object')"
            ]
          },
          "metadata": {},
          "execution_count": 26
        }
      ]
    },
    {
      "cell_type": "code",
      "metadata": {
        "id": "sNCvB-NzX3N3"
      },
      "source": [
        "features = ['air_pressure_9am', 'air_temp_9am', 'avg_wind_direction_9am',\n",
        "       'avg_wind_speed_9am', 'max_wind_direction_9am', 'max_wind_speed_9am',\n",
        "       'rain_accumulation_9am', 'rain_duration_9am']"
      ],
      "execution_count": 29,
      "outputs": []
    },
    {
      "cell_type": "code",
      "metadata": {
        "id": "nermHdVfYTtr"
      },
      "source": [
        "x = clean_data[features].copy()"
      ],
      "execution_count": 30,
      "outputs": []
    },
    {
      "cell_type": "markdown",
      "metadata": {
        "id": "u0jMzRQQYcjk"
      },
      "source": [
        "Parte set de datos"
      ]
    },
    {
      "cell_type": "code",
      "metadata": {
        "id": "qBy-2mnUYYX6"
      },
      "source": [
        "x_train, x_test, y_train, y_test = train_test_split(x, y, test_size=0.33, random_state=324)"
      ],
      "execution_count": 31,
      "outputs": []
    },
    {
      "cell_type": "code",
      "metadata": {
        "id": "yRe2qU9UYqjE"
      },
      "source": [
        "# Crea el clasificador con el número de nodos predispuesto a 10 sin aleatoriedad\n",
        "humidity_classificator = DecisionTreeClassifier(max_leaf_nodes=10, random_state=0)"
      ],
      "execution_count": 33,
      "outputs": []
    },
    {
      "cell_type": "code",
      "metadata": {
        "colab": {
          "base_uri": "https://localhost:8080/"
        },
        "id": "0IUYpbXTZGl2",
        "outputId": "ee262147-63aa-40ec-d88d-db9bff9d230e"
      },
      "source": [
        "humidity_classificator.fit(x_train, y_train) # Entrena el modelo"
      ],
      "execution_count": 34,
      "outputs": [
        {
          "output_type": "execute_result",
          "data": {
            "text/plain": [
              "DecisionTreeClassifier(max_leaf_nodes=10, random_state=0)"
            ]
          },
          "metadata": {},
          "execution_count": 34
        }
      ]
    },
    {
      "cell_type": "code",
      "metadata": {
        "id": "yMse0XyAZXMK"
      },
      "source": [
        "predictions = humidity_classificator.predict(x_test)"
      ],
      "execution_count": 35,
      "outputs": []
    },
    {
      "cell_type": "code",
      "metadata": {
        "colab": {
          "base_uri": "https://localhost:8080/"
        },
        "id": "2t26bbN9ZuLm",
        "outputId": "1d3d9c6b-ae2f-40be-d671-c1daf4b9de8f"
      },
      "source": [
        "accuracy_score(y_true=y_test, y_pred=predictions) # Muestra precisión del modelo"
      ],
      "execution_count": 36,
      "outputs": [
        {
          "output_type": "execute_result",
          "data": {
            "text/plain": [
              "0.8153409090909091"
            ]
          },
          "metadata": {},
          "execution_count": 36
        }
      ]
    }
  ]
}