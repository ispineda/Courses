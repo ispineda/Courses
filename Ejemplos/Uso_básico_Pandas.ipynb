{
  "nbformat": 4,
  "nbformat_minor": 0,
  "metadata": {
    "colab": {
      "name": "Uso básico Pandas.ipynb",
      "provenance": [],
      "authorship_tag": "ABX9TyMP9Ef9nL5wfssuVnDeV9Bw",
      "include_colab_link": true
    },
    "kernelspec": {
      "name": "python3",
      "display_name": "Python 3"
    },
    "language_info": {
      "name": "python"
    }
  },
  "cells": [
    {
      "cell_type": "markdown",
      "metadata": {
        "id": "view-in-github",
        "colab_type": "text"
      },
      "source": [
        "<a href=\"https://colab.research.google.com/github/ispineda/Courses/blob/main/Machine-Learning/Uso_b%C3%A1sico_Pandas.ipynb\" target=\"_parent\"><img src=\"https://colab.research.google.com/assets/colab-badge.svg\" alt=\"Open In Colab\"/></a>"
      ]
    },
    {
      "cell_type": "markdown",
      "metadata": {
        "id": "neZox2Wexg2x"
      },
      "source": [
        "# Uso básico Pandas"
      ]
    },
    {
      "cell_type": "code",
      "metadata": {
        "id": "SmoMBDqcxc-O"
      },
      "source": [
        "import pandas as pd"
      ],
      "execution_count": 1,
      "outputs": []
    },
    {
      "cell_type": "code",
      "metadata": {
        "colab": {
          "base_uri": "https://localhost:8080/"
        },
        "id": "hTWVTpuxxnrg",
        "outputId": "c90590c3-0940-42e5-85f5-846fec72a577"
      },
      "source": [
        "# Series\n",
        "serie1 = pd.Series(data=[100, \"Ninguno\", 300, \"Texto\"], index=['Pablo', 'Juan', 'pedro','Ismael'])\n",
        "serie1"
      ],
      "execution_count": 2,
      "outputs": [
        {
          "output_type": "execute_result",
          "data": {
            "text/plain": [
              "Pablo         100\n",
              "Juan      Ninguno\n",
              "pedro         300\n",
              "Ismael      Texto\n",
              "dtype: object"
            ]
          },
          "metadata": {},
          "execution_count": 2
        }
      ]
    },
    {
      "cell_type": "code",
      "metadata": {
        "colab": {
          "base_uri": "https://localhost:8080/"
        },
        "id": "L5CcOWkZx-LS",
        "outputId": "697546b5-fa26-476d-d6eb-3cd28a55e4ff"
      },
      "source": [
        "# Acceso mediante llaves\n",
        "print(serie1.loc[['Pablo', 'Juan']])\n",
        "print('-----------------------')\n",
        "# Acceso mediante indices\n",
        "print(serie1[[0, 1]])\n",
        "print(serie1.iloc[[0,1]])"
      ],
      "execution_count": 3,
      "outputs": [
        {
          "output_type": "stream",
          "name": "stdout",
          "text": [
            "Pablo        100\n",
            "Juan     Ninguno\n",
            "dtype: object\n",
            "-----------------------\n",
            "Pablo        100\n",
            "Juan     Ninguno\n",
            "dtype: object\n",
            "Pablo        100\n",
            "Juan     Ninguno\n",
            "dtype: object\n"
          ]
        }
      ]
    },
    {
      "cell_type": "code",
      "metadata": {
        "colab": {
          "base_uri": "https://localhost:8080/"
        },
        "id": "3l3bLMM6yXXf",
        "outputId": "f4af9b96-c4ab-4b9e-b9f2-6c2480eeb4c0"
      },
      "source": [
        "# Manipulación de datos en Series\n",
        "print(\"Pablo\" in serie1)\n",
        "print(serie1 * 3)"
      ],
      "execution_count": 4,
      "outputs": [
        {
          "output_type": "stream",
          "name": "stdout",
          "text": [
            "True\n",
            "Pablo                       300\n",
            "Juan      NingunoNingunoNinguno\n",
            "pedro                       900\n",
            "Ismael          TextoTextoTexto\n",
            "dtype: object\n"
          ]
        }
      ]
    },
    {
      "cell_type": "code",
      "metadata": {
        "colab": {
          "base_uri": "https://localhost:8080/"
        },
        "id": "3W_CYLILzXnz",
        "outputId": "667e4934-0c95-4a53-b8a8-33912b397f2b"
      },
      "source": [
        "value = \"Juan\" in serie1\n",
        "print(type(value))\n",
        "\n",
        "print(\"Juan\" in serie1 is False)"
      ],
      "execution_count": 5,
      "outputs": [
        {
          "output_type": "stream",
          "name": "stdout",
          "text": [
            "<class 'bool'>\n",
            "False\n"
          ]
        }
      ]
    },
    {
      "cell_type": "code",
      "metadata": {
        "colab": {
          "base_uri": "https://localhost:8080/"
        },
        "id": "RDWpd52W1emQ",
        "outputId": "7ff8af03-1d4b-4a2b-a4a4-257a09b108a5"
      },
      "source": [
        "# Creación  de un dataframe con una lista\n",
        "\n",
        "data = [{'pablo':1, 'juan':2}, {'pedro':5,'julia':10, 'maria':20}]\n",
        "data"
      ],
      "execution_count": 6,
      "outputs": [
        {
          "output_type": "execute_result",
          "data": {
            "text/plain": [
              "[{'juan': 2, 'pablo': 1}, {'julia': 10, 'maria': 20, 'pedro': 5}]"
            ]
          },
          "metadata": {},
          "execution_count": 6
        }
      ]
    },
    {
      "cell_type": "code",
      "metadata": {
        "colab": {
          "base_uri": "https://localhost:8080/",
          "height": 111
        },
        "id": "EcEzqXPT1xv_",
        "outputId": "3fed256d-4470-4d66-acd4-93ae04f6afde"
      },
      "source": [
        "pd.DataFrame(data)"
      ],
      "execution_count": 7,
      "outputs": [
        {
          "output_type": "execute_result",
          "data": {
            "text/html": [
              "<div>\n",
              "<style scoped>\n",
              "    .dataframe tbody tr th:only-of-type {\n",
              "        vertical-align: middle;\n",
              "    }\n",
              "\n",
              "    .dataframe tbody tr th {\n",
              "        vertical-align: top;\n",
              "    }\n",
              "\n",
              "    .dataframe thead th {\n",
              "        text-align: right;\n",
              "    }\n",
              "</style>\n",
              "<table border=\"1\" class=\"dataframe\">\n",
              "  <thead>\n",
              "    <tr style=\"text-align: right;\">\n",
              "      <th></th>\n",
              "      <th>pablo</th>\n",
              "      <th>juan</th>\n",
              "      <th>pedro</th>\n",
              "      <th>julia</th>\n",
              "      <th>maria</th>\n",
              "    </tr>\n",
              "  </thead>\n",
              "  <tbody>\n",
              "    <tr>\n",
              "      <th>0</th>\n",
              "      <td>1.0</td>\n",
              "      <td>2.0</td>\n",
              "      <td>NaN</td>\n",
              "      <td>NaN</td>\n",
              "      <td>NaN</td>\n",
              "    </tr>\n",
              "    <tr>\n",
              "      <th>1</th>\n",
              "      <td>NaN</td>\n",
              "      <td>NaN</td>\n",
              "      <td>5.0</td>\n",
              "      <td>10.0</td>\n",
              "      <td>20.0</td>\n",
              "    </tr>\n",
              "  </tbody>\n",
              "</table>\n",
              "</div>"
            ],
            "text/plain": [
              "   pablo  juan  pedro  julia  maria\n",
              "0    1.0   2.0    NaN    NaN    NaN\n",
              "1    NaN   NaN    5.0   10.0   20.0"
            ]
          },
          "metadata": {},
          "execution_count": 7
        }
      ]
    },
    {
      "cell_type": "code",
      "metadata": {
        "colab": {
          "base_uri": "https://localhost:8080/",
          "height": 204
        },
        "id": "x-25OOvvGOpb",
        "outputId": "dcb0f882-db6c-417d-e8b1-c1b1489fcc80"
      },
      "source": [
        "df_emtech = pd.read_csv(\"https://raw.githubusercontent.com/emtechinstitute/data-science-proyecto2/master/synergy_logistics_database.csv\")\n",
        "df_emtech.head()"
      ],
      "execution_count": 8,
      "outputs": [
        {
          "output_type": "execute_result",
          "data": {
            "text/html": [
              "<div>\n",
              "<style scoped>\n",
              "    .dataframe tbody tr th:only-of-type {\n",
              "        vertical-align: middle;\n",
              "    }\n",
              "\n",
              "    .dataframe tbody tr th {\n",
              "        vertical-align: top;\n",
              "    }\n",
              "\n",
              "    .dataframe thead th {\n",
              "        text-align: right;\n",
              "    }\n",
              "</style>\n",
              "<table border=\"1\" class=\"dataframe\">\n",
              "  <thead>\n",
              "    <tr style=\"text-align: right;\">\n",
              "      <th></th>\n",
              "      <th>register_id</th>\n",
              "      <th>direction</th>\n",
              "      <th>origin</th>\n",
              "      <th>destination</th>\n",
              "      <th>year</th>\n",
              "      <th>date</th>\n",
              "      <th>product</th>\n",
              "      <th>transport_mode</th>\n",
              "      <th>company_name</th>\n",
              "      <th>total_value</th>\n",
              "    </tr>\n",
              "  </thead>\n",
              "  <tbody>\n",
              "    <tr>\n",
              "      <th>0</th>\n",
              "      <td>1</td>\n",
              "      <td>Exports</td>\n",
              "      <td>Japan</td>\n",
              "      <td>China</td>\n",
              "      <td>2015</td>\n",
              "      <td>31/01/15</td>\n",
              "      <td>Cars</td>\n",
              "      <td>Sea</td>\n",
              "      <td>Honda</td>\n",
              "      <td>33000000</td>\n",
              "    </tr>\n",
              "    <tr>\n",
              "      <th>1</th>\n",
              "      <td>2</td>\n",
              "      <td>Exports</td>\n",
              "      <td>Japan</td>\n",
              "      <td>China</td>\n",
              "      <td>2015</td>\n",
              "      <td>01/02/15</td>\n",
              "      <td>Cars</td>\n",
              "      <td>Sea</td>\n",
              "      <td>Honda</td>\n",
              "      <td>16000000</td>\n",
              "    </tr>\n",
              "    <tr>\n",
              "      <th>2</th>\n",
              "      <td>3</td>\n",
              "      <td>Exports</td>\n",
              "      <td>Japan</td>\n",
              "      <td>China</td>\n",
              "      <td>2015</td>\n",
              "      <td>02/02/15</td>\n",
              "      <td>Cars</td>\n",
              "      <td>Sea</td>\n",
              "      <td>Honda</td>\n",
              "      <td>29000000</td>\n",
              "    </tr>\n",
              "    <tr>\n",
              "      <th>3</th>\n",
              "      <td>4</td>\n",
              "      <td>Exports</td>\n",
              "      <td>Japan</td>\n",
              "      <td>China</td>\n",
              "      <td>2015</td>\n",
              "      <td>03/02/15</td>\n",
              "      <td>Cars</td>\n",
              "      <td>Sea</td>\n",
              "      <td>Honda</td>\n",
              "      <td>14000000</td>\n",
              "    </tr>\n",
              "    <tr>\n",
              "      <th>4</th>\n",
              "      <td>5</td>\n",
              "      <td>Exports</td>\n",
              "      <td>Japan</td>\n",
              "      <td>China</td>\n",
              "      <td>2015</td>\n",
              "      <td>04/02/15</td>\n",
              "      <td>Cars</td>\n",
              "      <td>Sea</td>\n",
              "      <td>Honda</td>\n",
              "      <td>17000000</td>\n",
              "    </tr>\n",
              "  </tbody>\n",
              "</table>\n",
              "</div>"
            ],
            "text/plain": [
              "   register_id direction origin  ... transport_mode  company_name total_value\n",
              "0            1   Exports  Japan  ...            Sea         Honda    33000000\n",
              "1            2   Exports  Japan  ...            Sea         Honda    16000000\n",
              "2            3   Exports  Japan  ...            Sea         Honda    29000000\n",
              "3            4   Exports  Japan  ...            Sea         Honda    14000000\n",
              "4            5   Exports  Japan  ...            Sea         Honda    17000000\n",
              "\n",
              "[5 rows x 10 columns]"
            ]
          },
          "metadata": {},
          "execution_count": 8
        }
      ]
    },
    {
      "cell_type": "code",
      "metadata": {
        "colab": {
          "base_uri": "https://localhost:8080/"
        },
        "id": "7ptuWdSTGiC0",
        "outputId": "6c3c218d-9df0-4a60-9d22-b778fc3919c7"
      },
      "source": [
        "df_emtech.describe()\n",
        "df_emtech.dtypes"
      ],
      "execution_count": 9,
      "outputs": [
        {
          "output_type": "execute_result",
          "data": {
            "text/plain": [
              "register_id        int64\n",
              "direction         object\n",
              "origin            object\n",
              "destination       object\n",
              "year               int64\n",
              "date              object\n",
              "product           object\n",
              "transport_mode    object\n",
              "company_name      object\n",
              "total_value        int64\n",
              "dtype: object"
            ]
          },
          "metadata": {},
          "execution_count": 9
        }
      ]
    },
    {
      "cell_type": "code",
      "metadata": {
        "colab": {
          "base_uri": "https://localhost:8080/",
          "height": 419
        },
        "id": "4LeInlPrHArd",
        "outputId": "0be568e2-50d3-4ce5-ae94-5727b66f94f5"
      },
      "source": [
        "filter1 = df_emtech['year'] > 2018\n",
        "alter_df_emtech_filter = df_emtech[filter1]\n",
        "alter_df_emtech_filter"
      ],
      "execution_count": 10,
      "outputs": [
        {
          "output_type": "execute_result",
          "data": {
            "text/html": [
              "<div>\n",
              "<style scoped>\n",
              "    .dataframe tbody tr th:only-of-type {\n",
              "        vertical-align: middle;\n",
              "    }\n",
              "\n",
              "    .dataframe tbody tr th {\n",
              "        vertical-align: top;\n",
              "    }\n",
              "\n",
              "    .dataframe thead th {\n",
              "        text-align: right;\n",
              "    }\n",
              "</style>\n",
              "<table border=\"1\" class=\"dataframe\">\n",
              "  <thead>\n",
              "    <tr style=\"text-align: right;\">\n",
              "      <th></th>\n",
              "      <th>register_id</th>\n",
              "      <th>direction</th>\n",
              "      <th>origin</th>\n",
              "      <th>destination</th>\n",
              "      <th>year</th>\n",
              "      <th>date</th>\n",
              "      <th>product</th>\n",
              "      <th>transport_mode</th>\n",
              "      <th>company_name</th>\n",
              "      <th>total_value</th>\n",
              "    </tr>\n",
              "  </thead>\n",
              "  <tbody>\n",
              "    <tr>\n",
              "      <th>608</th>\n",
              "      <td>609</td>\n",
              "      <td>Exports</td>\n",
              "      <td>China</td>\n",
              "      <td>Japan</td>\n",
              "      <td>2019</td>\n",
              "      <td>02/02/19</td>\n",
              "      <td>Smartphones</td>\n",
              "      <td>Sea</td>\n",
              "      <td>Huawei Technologies Co</td>\n",
              "      <td>19000000</td>\n",
              "    </tr>\n",
              "    <tr>\n",
              "      <th>609</th>\n",
              "      <td>610</td>\n",
              "      <td>Exports</td>\n",
              "      <td>China</td>\n",
              "      <td>Japan</td>\n",
              "      <td>2019</td>\n",
              "      <td>03/02/19</td>\n",
              "      <td>Smartphones</td>\n",
              "      <td>Sea</td>\n",
              "      <td>Huawei Technologies Co</td>\n",
              "      <td>24000000</td>\n",
              "    </tr>\n",
              "    <tr>\n",
              "      <th>610</th>\n",
              "      <td>611</td>\n",
              "      <td>Exports</td>\n",
              "      <td>China</td>\n",
              "      <td>Japan</td>\n",
              "      <td>2019</td>\n",
              "      <td>04/02/19</td>\n",
              "      <td>Smartphones</td>\n",
              "      <td>Sea</td>\n",
              "      <td>Huawei Technologies Co</td>\n",
              "      <td>53000000</td>\n",
              "    </tr>\n",
              "    <tr>\n",
              "      <th>611</th>\n",
              "      <td>612</td>\n",
              "      <td>Exports</td>\n",
              "      <td>China</td>\n",
              "      <td>Japan</td>\n",
              "      <td>2019</td>\n",
              "      <td>05/02/19</td>\n",
              "      <td>Smartphones</td>\n",
              "      <td>Sea</td>\n",
              "      <td>Huawei Technologies Co</td>\n",
              "      <td>43000000</td>\n",
              "    </tr>\n",
              "    <tr>\n",
              "      <th>612</th>\n",
              "      <td>613</td>\n",
              "      <td>Exports</td>\n",
              "      <td>China</td>\n",
              "      <td>Japan</td>\n",
              "      <td>2019</td>\n",
              "      <td>06/02/19</td>\n",
              "      <td>Smartphones</td>\n",
              "      <td>Sea</td>\n",
              "      <td>Huawei Technologies Co</td>\n",
              "      <td>73000000</td>\n",
              "    </tr>\n",
              "    <tr>\n",
              "      <th>...</th>\n",
              "      <td>...</td>\n",
              "      <td>...</td>\n",
              "      <td>...</td>\n",
              "      <td>...</td>\n",
              "      <td>...</td>\n",
              "      <td>...</td>\n",
              "      <td>...</td>\n",
              "      <td>...</td>\n",
              "      <td>...</td>\n",
              "      <td>...</td>\n",
              "    </tr>\n",
              "    <tr>\n",
              "      <th>19051</th>\n",
              "      <td>19052</td>\n",
              "      <td>Imports</td>\n",
              "      <td>Japan</td>\n",
              "      <td>Singapore</td>\n",
              "      <td>2020</td>\n",
              "      <td>27/06/20</td>\n",
              "      <td>Gas turbines</td>\n",
              "      <td>Sea</td>\n",
              "      <td>Union Energy Co</td>\n",
              "      <td>1000000</td>\n",
              "    </tr>\n",
              "    <tr>\n",
              "      <th>19052</th>\n",
              "      <td>19053</td>\n",
              "      <td>Imports</td>\n",
              "      <td>Malaysia</td>\n",
              "      <td>Singapore</td>\n",
              "      <td>2020</td>\n",
              "      <td>28/06/20</td>\n",
              "      <td>Gas turbines</td>\n",
              "      <td>Sea</td>\n",
              "      <td>Union Energy Co</td>\n",
              "      <td>2000000</td>\n",
              "    </tr>\n",
              "    <tr>\n",
              "      <th>19053</th>\n",
              "      <td>19054</td>\n",
              "      <td>Imports</td>\n",
              "      <td>Malaysia</td>\n",
              "      <td>Singapore</td>\n",
              "      <td>2020</td>\n",
              "      <td>29/06/20</td>\n",
              "      <td>Gas turbines</td>\n",
              "      <td>Sea</td>\n",
              "      <td>Union Energy Co</td>\n",
              "      <td>33000000</td>\n",
              "    </tr>\n",
              "    <tr>\n",
              "      <th>19054</th>\n",
              "      <td>19055</td>\n",
              "      <td>Imports</td>\n",
              "      <td>Malaysia</td>\n",
              "      <td>Singapore</td>\n",
              "      <td>2020</td>\n",
              "      <td>30/06/20</td>\n",
              "      <td>Gas turbines</td>\n",
              "      <td>Sea</td>\n",
              "      <td>Union Energy Co</td>\n",
              "      <td>13000000</td>\n",
              "    </tr>\n",
              "    <tr>\n",
              "      <th>19055</th>\n",
              "      <td>19056</td>\n",
              "      <td>Imports</td>\n",
              "      <td>Malaysia</td>\n",
              "      <td>Singapore</td>\n",
              "      <td>2020</td>\n",
              "      <td>01/07/20</td>\n",
              "      <td>Gas turbines</td>\n",
              "      <td>Sea</td>\n",
              "      <td>Union Energy Co</td>\n",
              "      <td>30000000</td>\n",
              "    </tr>\n",
              "  </tbody>\n",
              "</table>\n",
              "<p>6335 rows × 10 columns</p>\n",
              "</div>"
            ],
            "text/plain": [
              "       register_id direction  ...            company_name total_value\n",
              "608            609   Exports  ...  Huawei Technologies Co    19000000\n",
              "609            610   Exports  ...  Huawei Technologies Co    24000000\n",
              "610            611   Exports  ...  Huawei Technologies Co    53000000\n",
              "611            612   Exports  ...  Huawei Technologies Co    43000000\n",
              "612            613   Exports  ...  Huawei Technologies Co    73000000\n",
              "...            ...       ...  ...                     ...         ...\n",
              "19051        19052   Imports  ...         Union Energy Co     1000000\n",
              "19052        19053   Imports  ...         Union Energy Co     2000000\n",
              "19053        19054   Imports  ...         Union Energy Co    33000000\n",
              "19054        19055   Imports  ...         Union Energy Co    13000000\n",
              "19055        19056   Imports  ...         Union Energy Co    30000000\n",
              "\n",
              "[6335 rows x 10 columns]"
            ]
          },
          "metadata": {},
          "execution_count": 10
        }
      ]
    },
    {
      "cell_type": "code",
      "metadata": {
        "colab": {
          "base_uri": "https://localhost:8080/"
        },
        "id": "b6qe0ZIpHf_b",
        "outputId": "466ebdf2-e65f-4e5c-a15f-2f852ca6fc84"
      },
      "source": [
        "df_emtech.isnull().any()"
      ],
      "execution_count": 11,
      "outputs": [
        {
          "output_type": "execute_result",
          "data": {
            "text/plain": [
              "register_id       False\n",
              "direction         False\n",
              "origin            False\n",
              "destination       False\n",
              "year              False\n",
              "date              False\n",
              "product           False\n",
              "transport_mode    False\n",
              "company_name      False\n",
              "total_value       False\n",
              "dtype: bool"
            ]
          },
          "metadata": {},
          "execution_count": 11
        }
      ]
    },
    {
      "cell_type": "code",
      "metadata": {
        "colab": {
          "base_uri": "https://localhost:8080/"
        },
        "id": "DH8RE4UEJDXu",
        "outputId": "850c66e8-dfb6-480e-bc8f-20916b1d19cb"
      },
      "source": [
        "# Si se tienen valores nulos\n",
        "print(\"Cantidad total de datos: \",df_emtech.shape[0]) # Conteo de filas\n",
        "\n",
        "print(\"La cantidad de datos eliminados son: \",df_emtech.shape[0] - df_emtech.dropna().shape[0]) # Número de datos castigados"
      ],
      "execution_count": 12,
      "outputs": [
        {
          "output_type": "stream",
          "name": "stdout",
          "text": [
            "Cantidad total de datos:  19056\n",
            "La cantidad de datos eliminados son:  0\n"
          ]
        }
      ]
    },
    {
      "cell_type": "code",
      "metadata": {
        "colab": {
          "base_uri": "https://localhost:8080/"
        },
        "id": "6qRm64rGJwcj",
        "outputId": "aa378226-e6ea-40ed-bb27-4f5ee8f9a641"
      },
      "source": [
        "df_emtech.isnull().any()"
      ],
      "execution_count": 13,
      "outputs": [
        {
          "output_type": "execute_result",
          "data": {
            "text/plain": [
              "register_id       False\n",
              "direction         False\n",
              "origin            False\n",
              "destination       False\n",
              "year              False\n",
              "date              False\n",
              "product           False\n",
              "transport_mode    False\n",
              "company_name      False\n",
              "total_value       False\n",
              "dtype: bool"
            ]
          },
          "metadata": {},
          "execution_count": 13
        }
      ]
    },
    {
      "cell_type": "code",
      "metadata": {
        "id": "fEWnp8p8Kj4X"
      },
      "source": [
        "import matplotlib.pyplot as plt\n",
        "\n",
        "plt.style.use(\"seaborn-dark-palette\")"
      ],
      "execution_count": 14,
      "outputs": []
    },
    {
      "cell_type": "code",
      "metadata": {
        "colab": {
          "base_uri": "https://localhost:8080/",
          "height": 383
        },
        "id": "dWnvJHKRKs3l",
        "outputId": "951f7af9-78eb-4390-b662-793e5bf8b609"
      },
      "source": [
        "# Muestra la distribución de datos según los intervalos\n",
        "df_emtech.hist(bins=10,column='total_value', figsize=(10,5))"
      ],
      "execution_count": 15,
      "outputs": [
        {
          "output_type": "execute_result",
          "data": {
            "text/plain": [
              "array([[<matplotlib.axes._subplots.AxesSubplot object at 0x7f78d9dbac50>]],\n",
              "      dtype=object)"
            ]
          },
          "metadata": {},
          "execution_count": 15
        },
        {
          "output_type": "display_data",
          "data": {
            "image/png": "[encoded data removed]",
            "text/plain": [
              "<Figure size 720x360 with 1 Axes>"
            ]
          },
          "metadata": {
            "needs_background": "light"
          }
        }
      ]
    },
    {
      "cell_type": "code",
      "metadata": {
        "colab": {
          "base_uri": "https://localhost:8080/",
          "height": 383
        },
        "id": "Fc-R5qU_L6CI",
        "outputId": "9db5e815-b304-49cf-8017-f5788a769c6d"
      },
      "source": [
        "# Muestra la probabilidad de aparición de un dato \n",
        "df_emtech.hist(bins=10, column='total_value', figsize=(10,5), grid=False)"
      ],
      "execution_count": 16,
      "outputs": [
        {
          "output_type": "execute_result",
          "data": {
            "text/plain": [
              "array([[<matplotlib.axes._subplots.AxesSubplot object at 0x7f78d1ef3d90>]],\n",
              "      dtype=object)"
            ]
          },
          "metadata": {},
          "execution_count": 16
        },
        {
          "output_type": "display_data",
          "data": {
            "image/png": "[encoded data removed]",
            "text/plain": [
              "<Figure size 720x360 with 1 Axes>"
            ]
          },
          "metadata": {
            "needs_background": "light"
          }
        }
      ]
    },
    {
      "cell_type": "code",
      "metadata": {
        "colab": {
          "base_uri": "https://localhost:8080/",
          "height": 512
        },
        "id": "eyKmVXJiv6LX",
        "outputId": "2e0f5c58-d232-4f24-b4bb-098f92546068"
      },
      "source": [
        "df_emtech.boxplot(column=\"total_value\", figsize=(10,8),)"
      ],
      "execution_count": 20,
      "outputs": [
        {
          "output_type": "execute_result",
          "data": {
            "text/plain": [
              "<matplotlib.axes._subplots.AxesSubplot at 0x7f78d1666110>"
            ]
          },
          "metadata": {},
          "execution_count": 20
        },
        {
          "output_type": "display_data",
          "data": {
            "image/png": "[encoded data removed]",
            "text/plain": [
              "<Figure size 720x576 with 1 Axes>"
            ]
          },
          "metadata": {
            "needs_background": "light"
          }
        }
      ]
    },
    {
      "cell_type": "code",
      "metadata": {
        "colab": {
          "base_uri": "https://localhost:8080/",
          "height": 204
        },
        "id": "QOHBEQQbw0XZ",
        "outputId": "0fbe4f29-64c2-4b3f-d484-cc8771f05287"
      },
      "source": [
        "df_emtech['Route'] = df_emtech['origin'] + \" - \" + df_emtech['destination']\n",
        "df_emtech.head()"
      ],
      "execution_count": 21,
      "outputs": [
        {
          "output_type": "execute_result",
          "data": {
            "text/html": [
              "<div>\n",
              "<style scoped>\n",
              "    .dataframe tbody tr th:only-of-type {\n",
              "        vertical-align: middle;\n",
              "    }\n",
              "\n",
              "    .dataframe tbody tr th {\n",
              "        vertical-align: top;\n",
              "    }\n",
              "\n",
              "    .dataframe thead th {\n",
              "        text-align: right;\n",
              "    }\n",
              "</style>\n",
              "<table border=\"1\" class=\"dataframe\">\n",
              "  <thead>\n",
              "    <tr style=\"text-align: right;\">\n",
              "      <th></th>\n",
              "      <th>register_id</th>\n",
              "      <th>direction</th>\n",
              "      <th>origin</th>\n",
              "      <th>destination</th>\n",
              "      <th>year</th>\n",
              "      <th>date</th>\n",
              "      <th>product</th>\n",
              "      <th>transport_mode</th>\n",
              "      <th>company_name</th>\n",
              "      <th>total_value</th>\n",
              "      <th>Route</th>\n",
              "    </tr>\n",
              "  </thead>\n",
              "  <tbody>\n",
              "    <tr>\n",
              "      <th>0</th>\n",
              "      <td>1</td>\n",
              "      <td>Exports</td>\n",
              "      <td>Japan</td>\n",
              "      <td>China</td>\n",
              "      <td>2015</td>\n",
              "      <td>31/01/15</td>\n",
              "      <td>Cars</td>\n",
              "      <td>Sea</td>\n",
              "      <td>Honda</td>\n",
              "      <td>33000000</td>\n",
              "      <td>Japan - China</td>\n",
              "    </tr>\n",
              "    <tr>\n",
              "      <th>1</th>\n",
              "      <td>2</td>\n",
              "      <td>Exports</td>\n",
              "      <td>Japan</td>\n",
              "      <td>China</td>\n",
              "      <td>2015</td>\n",
              "      <td>01/02/15</td>\n",
              "      <td>Cars</td>\n",
              "      <td>Sea</td>\n",
              "      <td>Honda</td>\n",
              "      <td>16000000</td>\n",
              "      <td>Japan - China</td>\n",
              "    </tr>\n",
              "    <tr>\n",
              "      <th>2</th>\n",
              "      <td>3</td>\n",
              "      <td>Exports</td>\n",
              "      <td>Japan</td>\n",
              "      <td>China</td>\n",
              "      <td>2015</td>\n",
              "      <td>02/02/15</td>\n",
              "      <td>Cars</td>\n",
              "      <td>Sea</td>\n",
              "      <td>Honda</td>\n",
              "      <td>29000000</td>\n",
              "      <td>Japan - China</td>\n",
              "    </tr>\n",
              "    <tr>\n",
              "      <th>3</th>\n",
              "      <td>4</td>\n",
              "      <td>Exports</td>\n",
              "      <td>Japan</td>\n",
              "      <td>China</td>\n",
              "      <td>2015</td>\n",
              "      <td>03/02/15</td>\n",
              "      <td>Cars</td>\n",
              "      <td>Sea</td>\n",
              "      <td>Honda</td>\n",
              "      <td>14000000</td>\n",
              "      <td>Japan - China</td>\n",
              "    </tr>\n",
              "    <tr>\n",
              "      <th>4</th>\n",
              "      <td>5</td>\n",
              "      <td>Exports</td>\n",
              "      <td>Japan</td>\n",
              "      <td>China</td>\n",
              "      <td>2015</td>\n",
              "      <td>04/02/15</td>\n",
              "      <td>Cars</td>\n",
              "      <td>Sea</td>\n",
              "      <td>Honda</td>\n",
              "      <td>17000000</td>\n",
              "      <td>Japan - China</td>\n",
              "    </tr>\n",
              "  </tbody>\n",
              "</table>\n",
              "</div>"
            ],
            "text/plain": [
              "   register_id direction origin  ... company_name  total_value          Route\n",
              "0            1   Exports  Japan  ...        Honda     33000000  Japan - China\n",
              "1            2   Exports  Japan  ...        Honda     16000000  Japan - China\n",
              "2            3   Exports  Japan  ...        Honda     29000000  Japan - China\n",
              "3            4   Exports  Japan  ...        Honda     14000000  Japan - China\n",
              "4            5   Exports  Japan  ...        Honda     17000000  Japan - China\n",
              "\n",
              "[5 rows x 11 columns]"
            ]
          },
          "metadata": {},
          "execution_count": 21
        }
      ]
    },
    {
      "cell_type": "code",
      "metadata": {
        "colab": {
          "base_uri": "https://localhost:8080/"
        },
        "id": "MDJ60PdAxAaY",
        "outputId": "d7818810-27a3-42e7-9fb0-0127207a4d7f"
      },
      "source": [
        "df_emtech.count()"
      ],
      "execution_count": 22,
      "outputs": [
        {
          "output_type": "execute_result",
          "data": {
            "text/plain": [
              "register_id       19056\n",
              "direction         19056\n",
              "origin            19056\n",
              "destination       19056\n",
              "year              19056\n",
              "date              19056\n",
              "product           19056\n",
              "transport_mode    19056\n",
              "company_name      19056\n",
              "total_value       19056\n",
              "Route             19056\n",
              "dtype: int64"
            ]
          },
          "metadata": {},
          "execution_count": 22
        }
      ]
    },
    {
      "cell_type": "code",
      "metadata": {
        "colab": {
          "base_uri": "https://localhost:8080/",
          "height": 654
        },
        "id": "im4EyScLxcqG",
        "outputId": "ee839485-e77a-485f-e325-c3ba8a1ac677"
      },
      "source": [
        "print(df_emtech['Route'].value_counts())\n",
        "df_emtech.groupby(by = ['Route','direction']).count()"
      ],
      "execution_count": 34,
      "outputs": [
        {
          "output_type": "stream",
          "name": "stdout",
          "text": [
            "South Korea - Vietnam    497\n",
            "Netherlands - Belgium    437\n",
            "USA - Netherlands        436\n",
            "Japan - Mexico           385\n",
            "China - Mexico           351\n",
            "                        ... \n",
            "France - Russia           13\n",
            "Japan - India              8\n",
            "France - Austria           7\n",
            "Brazil - Germany           6\n",
            "Malaysia - Singapore       4\n",
            "Name: Route, Length: 172, dtype: int64\n"
          ]
        },
        {
          "output_type": "execute_result",
          "data": {
            "text/html": [
              "<div>\n",
              "<style scoped>\n",
              "    .dataframe tbody tr th:only-of-type {\n",
              "        vertical-align: middle;\n",
              "    }\n",
              "\n",
              "    .dataframe tbody tr th {\n",
              "        vertical-align: top;\n",
              "    }\n",
              "\n",
              "    .dataframe thead th {\n",
              "        text-align: right;\n",
              "    }\n",
              "</style>\n",
              "<table border=\"1\" class=\"dataframe\">\n",
              "  <thead>\n",
              "    <tr style=\"text-align: right;\">\n",
              "      <th></th>\n",
              "      <th></th>\n",
              "      <th>register_id</th>\n",
              "      <th>origin</th>\n",
              "      <th>destination</th>\n",
              "      <th>year</th>\n",
              "      <th>date</th>\n",
              "      <th>product</th>\n",
              "      <th>transport_mode</th>\n",
              "      <th>company_name</th>\n",
              "      <th>total_value</th>\n",
              "    </tr>\n",
              "    <tr>\n",
              "      <th>Route</th>\n",
              "      <th>direction</th>\n",
              "      <th></th>\n",
              "      <th></th>\n",
              "      <th></th>\n",
              "      <th></th>\n",
              "      <th></th>\n",
              "      <th></th>\n",
              "      <th></th>\n",
              "      <th></th>\n",
              "      <th></th>\n",
              "    </tr>\n",
              "  </thead>\n",
              "  <tbody>\n",
              "    <tr>\n",
              "      <th>Australia - Brazil</th>\n",
              "      <th>Exports</th>\n",
              "      <td>112</td>\n",
              "      <td>112</td>\n",
              "      <td>112</td>\n",
              "      <td>112</td>\n",
              "      <td>112</td>\n",
              "      <td>112</td>\n",
              "      <td>112</td>\n",
              "      <td>112</td>\n",
              "      <td>112</td>\n",
              "    </tr>\n",
              "    <tr>\n",
              "      <th>Australia - Japan</th>\n",
              "      <th>Imports</th>\n",
              "      <td>102</td>\n",
              "      <td>102</td>\n",
              "      <td>102</td>\n",
              "      <td>102</td>\n",
              "      <td>102</td>\n",
              "      <td>102</td>\n",
              "      <td>102</td>\n",
              "      <td>102</td>\n",
              "      <td>102</td>\n",
              "    </tr>\n",
              "    <tr>\n",
              "      <th>Australia - Mexico</th>\n",
              "      <th>Exports</th>\n",
              "      <td>51</td>\n",
              "      <td>51</td>\n",
              "      <td>51</td>\n",
              "      <td>51</td>\n",
              "      <td>51</td>\n",
              "      <td>51</td>\n",
              "      <td>51</td>\n",
              "      <td>51</td>\n",
              "      <td>51</td>\n",
              "    </tr>\n",
              "    <tr>\n",
              "      <th>Australia - Philippines</th>\n",
              "      <th>Exports</th>\n",
              "      <td>114</td>\n",
              "      <td>114</td>\n",
              "      <td>114</td>\n",
              "      <td>114</td>\n",
              "      <td>114</td>\n",
              "      <td>114</td>\n",
              "      <td>114</td>\n",
              "      <td>114</td>\n",
              "      <td>114</td>\n",
              "    </tr>\n",
              "    <tr>\n",
              "      <th>Australia - Singapore</th>\n",
              "      <th>Exports</th>\n",
              "      <td>273</td>\n",
              "      <td>273</td>\n",
              "      <td>273</td>\n",
              "      <td>273</td>\n",
              "      <td>273</td>\n",
              "      <td>273</td>\n",
              "      <td>273</td>\n",
              "      <td>273</td>\n",
              "      <td>273</td>\n",
              "    </tr>\n",
              "    <tr>\n",
              "      <th>...</th>\n",
              "      <th>...</th>\n",
              "      <td>...</td>\n",
              "      <td>...</td>\n",
              "      <td>...</td>\n",
              "      <td>...</td>\n",
              "      <td>...</td>\n",
              "      <td>...</td>\n",
              "      <td>...</td>\n",
              "      <td>...</td>\n",
              "      <td>...</td>\n",
              "    </tr>\n",
              "    <tr>\n",
              "      <th>United Kingdom - Ireland</th>\n",
              "      <th>Exports</th>\n",
              "      <td>137</td>\n",
              "      <td>137</td>\n",
              "      <td>137</td>\n",
              "      <td>137</td>\n",
              "      <td>137</td>\n",
              "      <td>137</td>\n",
              "      <td>137</td>\n",
              "      <td>137</td>\n",
              "      <td>137</td>\n",
              "    </tr>\n",
              "    <tr>\n",
              "      <th>United Kingdom - Italy</th>\n",
              "      <th>Exports</th>\n",
              "      <td>100</td>\n",
              "      <td>100</td>\n",
              "      <td>100</td>\n",
              "      <td>100</td>\n",
              "      <td>100</td>\n",
              "      <td>100</td>\n",
              "      <td>100</td>\n",
              "      <td>100</td>\n",
              "      <td>100</td>\n",
              "    </tr>\n",
              "    <tr>\n",
              "      <th>United Kingdom - Spain</th>\n",
              "      <th>Exports</th>\n",
              "      <td>176</td>\n",
              "      <td>176</td>\n",
              "      <td>176</td>\n",
              "      <td>176</td>\n",
              "      <td>176</td>\n",
              "      <td>176</td>\n",
              "      <td>176</td>\n",
              "      <td>176</td>\n",
              "      <td>176</td>\n",
              "    </tr>\n",
              "    <tr>\n",
              "      <th>United Kingdom - USA</th>\n",
              "      <th>Exports</th>\n",
              "      <td>122</td>\n",
              "      <td>122</td>\n",
              "      <td>122</td>\n",
              "      <td>122</td>\n",
              "      <td>122</td>\n",
              "      <td>122</td>\n",
              "      <td>122</td>\n",
              "      <td>122</td>\n",
              "      <td>122</td>\n",
              "    </tr>\n",
              "    <tr>\n",
              "      <th>Vietnam - United Arab Emirates</th>\n",
              "      <th>Imports</th>\n",
              "      <td>18</td>\n",
              "      <td>18</td>\n",
              "      <td>18</td>\n",
              "      <td>18</td>\n",
              "      <td>18</td>\n",
              "      <td>18</td>\n",
              "      <td>18</td>\n",
              "      <td>18</td>\n",
              "      <td>18</td>\n",
              "    </tr>\n",
              "  </tbody>\n",
              "</table>\n",
              "<p>193 rows × 9 columns</p>\n",
              "</div>"
            ],
            "text/plain": [
              "                                          register_id  ...  total_value\n",
              "Route                          direction               ...             \n",
              "Australia - Brazil             Exports            112  ...          112\n",
              "Australia - Japan              Imports            102  ...          102\n",
              "Australia - Mexico             Exports             51  ...           51\n",
              "Australia - Philippines        Exports            114  ...          114\n",
              "Australia - Singapore          Exports            273  ...          273\n",
              "...                                               ...  ...          ...\n",
              "United Kingdom - Ireland       Exports            137  ...          137\n",
              "United Kingdom - Italy         Exports            100  ...          100\n",
              "United Kingdom - Spain         Exports            176  ...          176\n",
              "United Kingdom - USA           Exports            122  ...          122\n",
              "Vietnam - United Arab Emirates Imports             18  ...           18\n",
              "\n",
              "[193 rows x 9 columns]"
            ]
          },
          "metadata": {},
          "execution_count": 34
        }
      ]
    },
    {
      "cell_type": "code",
      "metadata": {
        "colab": {
          "base_uri": "https://localhost:8080/",
          "height": 711
        },
        "id": "Dz-WfS7Uy4ST",
        "outputId": "b970a8a0-4341-4077-c550-1d8eb4e173ce"
      },
      "source": [
        "distribution_route = df_emtech['Route'].value_counts().head()\n",
        "distribution_route.plot(kind=\"bar\", figsize=(10,10))"
      ],
      "execution_count": 32,
      "outputs": [
        {
          "output_type": "execute_result",
          "data": {
            "text/plain": [
              "<matplotlib.axes._subplots.AxesSubplot at 0x7f78ba44c250>"
            ]
          },
          "metadata": {},
          "execution_count": 32
        },
        {
          "output_type": "display_data",
          "data": {
            "image/png": "[encoded data removed]",
            "text/plain": [
              "<Figure size 720x720 with 1 Axes>"
            ]
          },
          "metadata": {
            "needs_background": "light"
          }
        }
      ]
    },
    {
      "cell_type": "code",
      "metadata": {
        "id": "ybkufBHm2v6b"
      },
      "source": [
        "# Expresiones regulares https://regex101.com/"
      ],
      "execution_count": null,
      "outputs": []
    },
    {
      "cell_type": "code",
      "metadata": {
        "id": "jvwB-P3u5Bk5"
      },
      "source": [
        "import pandas as pd\n",
        "from google.colab import drive\n",
        "import numpy as np\n",
        "import matplotlib.pyplot as plt\n",
        "import random\n",
        "\n",
        "plt.style.use(\"seaborn-dark\")"
      ],
      "execution_count": 51,
      "outputs": []
    },
    {
      "cell_type": "code",
      "metadata": {
        "colab": {
          "base_uri": "https://localhost:8080/"
        },
        "id": "D1WFdsfm5k-V",
        "outputId": "436d5f40-05ae-42c0-e53c-a7ac5b2d805a"
      },
      "source": [
        "drive.mount('/content/drive')"
      ],
      "execution_count": 36,
      "outputs": [
        {
          "output_type": "stream",
          "name": "stdout",
          "text": [
            "Mounted at /content/drive\n"
          ]
        }
      ]
    },
    {
      "cell_type": "code",
      "metadata": {
        "id": "WP6JVQl95mL0"
      },
      "source": [
        "df = pd.read_csv('/content/drive/MyDrive/Datasets/Indicators.csv')"
      ],
      "execution_count": 73,
      "outputs": []
    },
    {
      "cell_type": "code",
      "metadata": {
        "colab": {
          "base_uri": "https://localhost:8080/",
          "height": 204
        },
        "id": "s1kuromJ7okE",
        "outputId": "acfbcd25-caca-4a50-8499-f0361d913001"
      },
      "source": [
        "df.head()"
      ],
      "execution_count": 39,
      "outputs": [
        {
          "output_type": "execute_result",
          "data": {
            "text/html": [
              "<div>\n",
              "<style scoped>\n",
              "    .dataframe tbody tr th:only-of-type {\n",
              "        vertical-align: middle;\n",
              "    }\n",
              "\n",
              "    .dataframe tbody tr th {\n",
              "        vertical-align: top;\n",
              "    }\n",
              "\n",
              "    .dataframe thead th {\n",
              "        text-align: right;\n",
              "    }\n",
              "</style>\n",
              "<table border=\"1\" class=\"dataframe\">\n",
              "  <thead>\n",
              "    <tr style=\"text-align: right;\">\n",
              "      <th></th>\n",
              "      <th>CountryName</th>\n",
              "      <th>CountryCode</th>\n",
              "      <th>IndicatorName</th>\n",
              "      <th>IndicatorCode</th>\n",
              "      <th>Year</th>\n",
              "      <th>Value</th>\n",
              "    </tr>\n",
              "  </thead>\n",
              "  <tbody>\n",
              "    <tr>\n",
              "      <th>0</th>\n",
              "      <td>Arab World</td>\n",
              "      <td>ARB</td>\n",
              "      <td>Adolescent fertility rate (births per 1,000 wo...</td>\n",
              "      <td>SP.ADO.TFRT</td>\n",
              "      <td>1960</td>\n",
              "      <td>1.335609e+02</td>\n",
              "    </tr>\n",
              "    <tr>\n",
              "      <th>1</th>\n",
              "      <td>Arab World</td>\n",
              "      <td>ARB</td>\n",
              "      <td>Age dependency ratio (% of working-age populat...</td>\n",
              "      <td>SP.POP.DPND</td>\n",
              "      <td>1960</td>\n",
              "      <td>8.779760e+01</td>\n",
              "    </tr>\n",
              "    <tr>\n",
              "      <th>2</th>\n",
              "      <td>Arab World</td>\n",
              "      <td>ARB</td>\n",
              "      <td>Age dependency ratio, old (% of working-age po...</td>\n",
              "      <td>SP.POP.DPND.OL</td>\n",
              "      <td>1960</td>\n",
              "      <td>6.634579e+00</td>\n",
              "    </tr>\n",
              "    <tr>\n",
              "      <th>3</th>\n",
              "      <td>Arab World</td>\n",
              "      <td>ARB</td>\n",
              "      <td>Age dependency ratio, young (% of working-age ...</td>\n",
              "      <td>SP.POP.DPND.YG</td>\n",
              "      <td>1960</td>\n",
              "      <td>8.102333e+01</td>\n",
              "    </tr>\n",
              "    <tr>\n",
              "      <th>4</th>\n",
              "      <td>Arab World</td>\n",
              "      <td>ARB</td>\n",
              "      <td>Arms exports (SIPRI trend indicator values)</td>\n",
              "      <td>MS.MIL.XPRT.KD</td>\n",
              "      <td>1960</td>\n",
              "      <td>3.000000e+06</td>\n",
              "    </tr>\n",
              "  </tbody>\n",
              "</table>\n",
              "</div>"
            ],
            "text/plain": [
              "  CountryName CountryCode  ...  Year         Value\n",
              "0  Arab World         ARB  ...  1960  1.335609e+02\n",
              "1  Arab World         ARB  ...  1960  8.779760e+01\n",
              "2  Arab World         ARB  ...  1960  6.634579e+00\n",
              "3  Arab World         ARB  ...  1960  8.102333e+01\n",
              "4  Arab World         ARB  ...  1960  3.000000e+06\n",
              "\n",
              "[5 rows x 6 columns]"
            ]
          },
          "metadata": {},
          "execution_count": 39
        }
      ]
    },
    {
      "cell_type": "code",
      "metadata": {
        "colab": {
          "base_uri": "https://localhost:8080/",
          "height": 669
        },
        "id": "8hUl0NUA7usN",
        "outputId": "f5dd9781-c7ef-404e-c279-2b9a01fd39cc"
      },
      "source": [
        "filtro = df['CountryName'] == \"Mexico\"\n",
        "df_mexico = df[filtro]\n",
        "df_mexico.head(20)"
      ],
      "execution_count": 49,
      "outputs": [
        {
          "output_type": "execute_result",
          "data": {
            "text/html": [
              "<div>\n",
              "<style scoped>\n",
              "    .dataframe tbody tr th:only-of-type {\n",
              "        vertical-align: middle;\n",
              "    }\n",
              "\n",
              "    .dataframe tbody tr th {\n",
              "        vertical-align: top;\n",
              "    }\n",
              "\n",
              "    .dataframe thead th {\n",
              "        text-align: right;\n",
              "    }\n",
              "</style>\n",
              "<table border=\"1\" class=\"dataframe\">\n",
              "  <thead>\n",
              "    <tr style=\"text-align: right;\">\n",
              "      <th></th>\n",
              "      <th>CountryName</th>\n",
              "      <th>CountryCode</th>\n",
              "      <th>IndicatorName</th>\n",
              "      <th>IndicatorCode</th>\n",
              "      <th>Year</th>\n",
              "      <th>Value</th>\n",
              "    </tr>\n",
              "  </thead>\n",
              "  <tbody>\n",
              "    <tr>\n",
              "      <th>15224</th>\n",
              "      <td>Mexico</td>\n",
              "      <td>MEX</td>\n",
              "      <td>Adolescent fertility rate (births per 1,000 wo...</td>\n",
              "      <td>SP.ADO.TFRT</td>\n",
              "      <td>1960</td>\n",
              "      <td>1.164508e+02</td>\n",
              "    </tr>\n",
              "    <tr>\n",
              "      <th>15225</th>\n",
              "      <td>Mexico</td>\n",
              "      <td>MEX</td>\n",
              "      <td>Age dependency ratio (% of working-age populat...</td>\n",
              "      <td>SP.POP.DPND</td>\n",
              "      <td>1960</td>\n",
              "      <td>9.721359e+01</td>\n",
              "    </tr>\n",
              "    <tr>\n",
              "      <th>15226</th>\n",
              "      <td>Mexico</td>\n",
              "      <td>MEX</td>\n",
              "      <td>Age dependency ratio, old (% of working-age po...</td>\n",
              "      <td>SP.POP.DPND.OL</td>\n",
              "      <td>1960</td>\n",
              "      <td>6.633732e+00</td>\n",
              "    </tr>\n",
              "    <tr>\n",
              "      <th>15227</th>\n",
              "      <td>Mexico</td>\n",
              "      <td>MEX</td>\n",
              "      <td>Age dependency ratio, young (% of working-age ...</td>\n",
              "      <td>SP.POP.DPND.YG</td>\n",
              "      <td>1960</td>\n",
              "      <td>9.057986e+01</td>\n",
              "    </tr>\n",
              "    <tr>\n",
              "      <th>15228</th>\n",
              "      <td>Mexico</td>\n",
              "      <td>MEX</td>\n",
              "      <td>Arms imports (SIPRI trend indicator values)</td>\n",
              "      <td>MS.MIL.MPRT.KD</td>\n",
              "      <td>1960</td>\n",
              "      <td>9.000000e+06</td>\n",
              "    </tr>\n",
              "    <tr>\n",
              "      <th>15229</th>\n",
              "      <td>Mexico</td>\n",
              "      <td>MEX</td>\n",
              "      <td>Birth rate, crude (per 1,000 people)</td>\n",
              "      <td>SP.DYN.CBRT.IN</td>\n",
              "      <td>1960</td>\n",
              "      <td>4.552900e+01</td>\n",
              "    </tr>\n",
              "    <tr>\n",
              "      <th>15230</th>\n",
              "      <td>Mexico</td>\n",
              "      <td>MEX</td>\n",
              "      <td>Changes in inventories (constant LCU)</td>\n",
              "      <td>NE.GDI.STKB.KN</td>\n",
              "      <td>1960</td>\n",
              "      <td>1.128615e+11</td>\n",
              "    </tr>\n",
              "    <tr>\n",
              "      <th>15231</th>\n",
              "      <td>Mexico</td>\n",
              "      <td>MEX</td>\n",
              "      <td>Changes in inventories (current LCU)</td>\n",
              "      <td>NE.GDI.STKB.CN</td>\n",
              "      <td>1960</td>\n",
              "      <td>2.609801e+06</td>\n",
              "    </tr>\n",
              "    <tr>\n",
              "      <th>15232</th>\n",
              "      <td>Mexico</td>\n",
              "      <td>MEX</td>\n",
              "      <td>Changes in inventories (current US$)</td>\n",
              "      <td>NE.GDI.STKB.CD</td>\n",
              "      <td>1960</td>\n",
              "      <td>2.087841e+08</td>\n",
              "    </tr>\n",
              "    <tr>\n",
              "      <th>15233</th>\n",
              "      <td>Mexico</td>\n",
              "      <td>MEX</td>\n",
              "      <td>CO2 emissions (kg per 2005 US$ of GDP)</td>\n",
              "      <td>EN.ATM.CO2E.KD.GD</td>\n",
              "      <td>1960</td>\n",
              "      <td>4.946562e-01</td>\n",
              "    </tr>\n",
              "    <tr>\n",
              "      <th>15234</th>\n",
              "      <td>Mexico</td>\n",
              "      <td>MEX</td>\n",
              "      <td>CO2 emissions (kt)</td>\n",
              "      <td>EN.ATM.CO2E.KT</td>\n",
              "      <td>1960</td>\n",
              "      <td>6.311640e+04</td>\n",
              "    </tr>\n",
              "    <tr>\n",
              "      <th>15235</th>\n",
              "      <td>Mexico</td>\n",
              "      <td>MEX</td>\n",
              "      <td>CO2 emissions (metric tons per capita)</td>\n",
              "      <td>EN.ATM.CO2E.PC</td>\n",
              "      <td>1960</td>\n",
              "      <td>1.653382e+00</td>\n",
              "    </tr>\n",
              "    <tr>\n",
              "      <th>15236</th>\n",
              "      <td>Mexico</td>\n",
              "      <td>MEX</td>\n",
              "      <td>CO2 emissions from gaseous fuel consumption (%...</td>\n",
              "      <td>EN.ATM.CO2E.GF.ZS</td>\n",
              "      <td>1960</td>\n",
              "      <td>1.011504e+01</td>\n",
              "    </tr>\n",
              "    <tr>\n",
              "      <th>15237</th>\n",
              "      <td>Mexico</td>\n",
              "      <td>MEX</td>\n",
              "      <td>CO2 emissions from gaseous fuel consumption (kt)</td>\n",
              "      <td>EN.ATM.CO2E.GF.KT</td>\n",
              "      <td>1960</td>\n",
              "      <td>6.384247e+03</td>\n",
              "    </tr>\n",
              "    <tr>\n",
              "      <th>15238</th>\n",
              "      <td>Mexico</td>\n",
              "      <td>MEX</td>\n",
              "      <td>CO2 emissions from liquid fuel consumption (% ...</td>\n",
              "      <td>EN.ATM.CO2E.LF.ZS</td>\n",
              "      <td>1960</td>\n",
              "      <td>6.813270e+01</td>\n",
              "    </tr>\n",
              "    <tr>\n",
              "      <th>15239</th>\n",
              "      <td>Mexico</td>\n",
              "      <td>MEX</td>\n",
              "      <td>CO2 emissions from liquid fuel consumption (kt)</td>\n",
              "      <td>EN.ATM.CO2E.LF.KT</td>\n",
              "      <td>1960</td>\n",
              "      <td>4.300291e+04</td>\n",
              "    </tr>\n",
              "    <tr>\n",
              "      <th>15240</th>\n",
              "      <td>Mexico</td>\n",
              "      <td>MEX</td>\n",
              "      <td>CO2 emissions from solid fuel consumption (% o...</td>\n",
              "      <td>EN.ATM.CO2E.SF.ZS</td>\n",
              "      <td>1960</td>\n",
              "      <td>5.536835e+00</td>\n",
              "    </tr>\n",
              "    <tr>\n",
              "      <th>15241</th>\n",
              "      <td>Mexico</td>\n",
              "      <td>MEX</td>\n",
              "      <td>CO2 emissions from solid fuel consumption (kt)</td>\n",
              "      <td>EN.ATM.CO2E.SF.KT</td>\n",
              "      <td>1960</td>\n",
              "      <td>3.494651e+03</td>\n",
              "    </tr>\n",
              "    <tr>\n",
              "      <th>15242</th>\n",
              "      <td>Mexico</td>\n",
              "      <td>MEX</td>\n",
              "      <td>Consumer price index (2010 = 100)</td>\n",
              "      <td>FP.CPI.TOTL</td>\n",
              "      <td>1960</td>\n",
              "      <td>1.289217e-02</td>\n",
              "    </tr>\n",
              "    <tr>\n",
              "      <th>15243</th>\n",
              "      <td>Mexico</td>\n",
              "      <td>MEX</td>\n",
              "      <td>Death rate, crude (per 1,000 people)</td>\n",
              "      <td>SP.DYN.CDRT.IN</td>\n",
              "      <td>1960</td>\n",
              "      <td>1.229400e+01</td>\n",
              "    </tr>\n",
              "  </tbody>\n",
              "</table>\n",
              "</div>"
            ],
            "text/plain": [
              "      CountryName CountryCode  ...  Year         Value\n",
              "15224      Mexico         MEX  ...  1960  1.164508e+02\n",
              "15225      Mexico         MEX  ...  1960  9.721359e+01\n",
              "15226      Mexico         MEX  ...  1960  6.633732e+00\n",
              "15227      Mexico         MEX  ...  1960  9.057986e+01\n",
              "15228      Mexico         MEX  ...  1960  9.000000e+06\n",
              "15229      Mexico         MEX  ...  1960  4.552900e+01\n",
              "15230      Mexico         MEX  ...  1960  1.128615e+11\n",
              "15231      Mexico         MEX  ...  1960  2.609801e+06\n",
              "15232      Mexico         MEX  ...  1960  2.087841e+08\n",
              "15233      Mexico         MEX  ...  1960  4.946562e-01\n",
              "15234      Mexico         MEX  ...  1960  6.311640e+04\n",
              "15235      Mexico         MEX  ...  1960  1.653382e+00\n",
              "15236      Mexico         MEX  ...  1960  1.011504e+01\n",
              "15237      Mexico         MEX  ...  1960  6.384247e+03\n",
              "15238      Mexico         MEX  ...  1960  6.813270e+01\n",
              "15239      Mexico         MEX  ...  1960  4.300291e+04\n",
              "15240      Mexico         MEX  ...  1960  5.536835e+00\n",
              "15241      Mexico         MEX  ...  1960  3.494651e+03\n",
              "15242      Mexico         MEX  ...  1960  1.289217e-02\n",
              "15243      Mexico         MEX  ...  1960  1.229400e+01\n",
              "\n",
              "[20 rows x 6 columns]"
            ]
          },
          "metadata": {},
          "execution_count": 49
        }
      ]
    },
    {
      "cell_type": "code",
      "metadata": {
        "colab": {
          "base_uri": "https://localhost:8080/"
        },
        "id": "znlwdFBP8F9a",
        "outputId": "b30cb00d-426c-4011-c983-d1b29c0e53d6"
      },
      "source": [
        "# Años de información\n",
        "\n",
        "years_mexico = df_mexico['Year'].unique().tolist()\n",
        "print(len(years_mexico))\n",
        "\n",
        "print(min(years_mexico))\n",
        "print(max(years_mexico))\n",
        "print(max(years_mexico) - min(years_mexico))"
      ],
      "execution_count": 48,
      "outputs": [
        {
          "output_type": "stream",
          "name": "stdout",
          "text": [
            "56\n",
            "1960\n",
            "2015\n",
            "55\n"
          ]
        }
      ]
    },
    {
      "cell_type": "code",
      "metadata": {
        "colab": {
          "base_uri": "https://localhost:8080/",
          "height": 1000
        },
        "id": "uISai_9a9Q0T",
        "outputId": "152be841-81c8-4feb-9629-43bfe4c5d3b2"
      },
      "source": [
        "his_indicator = \"CO2 emissions (metric\"\n",
        "filtro2 = df_mexico['IndicatorName'].str.contains(his_indicator, regex=False)\n",
        "df_CO2_emissiones_mexico = df_mexico[filtro2]\n",
        "df_CO2_emissiones_mexico"
      ],
      "execution_count": 61,
      "outputs": [
        {
          "output_type": "execute_result",
          "data": {
            "text/html": [
              "<div>\n",
              "<style scoped>\n",
              "    .dataframe tbody tr th:only-of-type {\n",
              "        vertical-align: middle;\n",
              "    }\n",
              "\n",
              "    .dataframe tbody tr th {\n",
              "        vertical-align: top;\n",
              "    }\n",
              "\n",
              "    .dataframe thead th {\n",
              "        text-align: right;\n",
              "    }\n",
              "</style>\n",
              "<table border=\"1\" class=\"dataframe\">\n",
              "  <thead>\n",
              "    <tr style=\"text-align: right;\">\n",
              "      <th></th>\n",
              "      <th>CountryName</th>\n",
              "      <th>CountryCode</th>\n",
              "      <th>IndicatorName</th>\n",
              "      <th>IndicatorCode</th>\n",
              "      <th>Year</th>\n",
              "      <th>Value</th>\n",
              "    </tr>\n",
              "  </thead>\n",
              "  <tbody>\n",
              "    <tr>\n",
              "      <th>15235</th>\n",
              "      <td>Mexico</td>\n",
              "      <td>MEX</td>\n",
              "      <td>CO2 emissions (metric tons per capita)</td>\n",
              "      <td>EN.ATM.CO2E.PC</td>\n",
              "      <td>1960</td>\n",
              "      <td>1.653382</td>\n",
              "    </tr>\n",
              "    <tr>\n",
              "      <th>40674</th>\n",
              "      <td>Mexico</td>\n",
              "      <td>MEX</td>\n",
              "      <td>CO2 emissions (metric tons per capita)</td>\n",
              "      <td>EN.ATM.CO2E.PC</td>\n",
              "      <td>1961</td>\n",
              "      <td>1.657750</td>\n",
              "    </tr>\n",
              "    <tr>\n",
              "      <th>68468</th>\n",
              "      <td>Mexico</td>\n",
              "      <td>MEX</td>\n",
              "      <td>CO2 emissions (metric tons per capita)</td>\n",
              "      <td>EN.ATM.CO2E.PC</td>\n",
              "      <td>1962</td>\n",
              "      <td>1.569744</td>\n",
              "    </tr>\n",
              "    <tr>\n",
              "      <th>97033</th>\n",
              "      <td>Mexico</td>\n",
              "      <td>MEX</td>\n",
              "      <td>CO2 emissions (metric tons per capita)</td>\n",
              "      <td>EN.ATM.CO2E.PC</td>\n",
              "      <td>1963</td>\n",
              "      <td>1.582305</td>\n",
              "    </tr>\n",
              "    <tr>\n",
              "      <th>125944</th>\n",
              "      <td>Mexico</td>\n",
              "      <td>MEX</td>\n",
              "      <td>CO2 emissions (metric tons per capita)</td>\n",
              "      <td>EN.ATM.CO2E.PC</td>\n",
              "      <td>1964</td>\n",
              "      <td>1.716861</td>\n",
              "    </tr>\n",
              "    <tr>\n",
              "      <th>156997</th>\n",
              "      <td>Mexico</td>\n",
              "      <td>MEX</td>\n",
              "      <td>CO2 emissions (metric tons per capita)</td>\n",
              "      <td>EN.ATM.CO2E.PC</td>\n",
              "      <td>1965</td>\n",
              "      <td>1.686278</td>\n",
              "    </tr>\n",
              "    <tr>\n",
              "      <th>188629</th>\n",
              "      <td>Mexico</td>\n",
              "      <td>MEX</td>\n",
              "      <td>CO2 emissions (metric tons per capita)</td>\n",
              "      <td>EN.ATM.CO2E.PC</td>\n",
              "      <td>1966</td>\n",
              "      <td>1.758944</td>\n",
              "    </tr>\n",
              "    <tr>\n",
              "      <th>220929</th>\n",
              "      <td>Mexico</td>\n",
              "      <td>MEX</td>\n",
              "      <td>CO2 emissions (metric tons per capita)</td>\n",
              "      <td>EN.ATM.CO2E.PC</td>\n",
              "      <td>1967</td>\n",
              "      <td>1.899699</td>\n",
              "    </tr>\n",
              "    <tr>\n",
              "      <th>253505</th>\n",
              "      <td>Mexico</td>\n",
              "      <td>MEX</td>\n",
              "      <td>CO2 emissions (metric tons per capita)</td>\n",
              "      <td>EN.ATM.CO2E.PC</td>\n",
              "      <td>1968</td>\n",
              "      <td>1.922314</td>\n",
              "    </tr>\n",
              "    <tr>\n",
              "      <th>286365</th>\n",
              "      <td>Mexico</td>\n",
              "      <td>MEX</td>\n",
              "      <td>CO2 emissions (metric tons per capita)</td>\n",
              "      <td>EN.ATM.CO2E.PC</td>\n",
              "      <td>1969</td>\n",
              "      <td>2.028579</td>\n",
              "    </tr>\n",
              "    <tr>\n",
              "      <th>338919</th>\n",
              "      <td>Mexico</td>\n",
              "      <td>MEX</td>\n",
              "      <td>CO2 emissions (metric tons per capita)</td>\n",
              "      <td>EN.ATM.CO2E.PC</td>\n",
              "      <td>1970</td>\n",
              "      <td>2.192453</td>\n",
              "    </tr>\n",
              "    <tr>\n",
              "      <th>405377</th>\n",
              "      <td>Mexico</td>\n",
              "      <td>MEX</td>\n",
              "      <td>CO2 emissions (metric tons per capita)</td>\n",
              "      <td>EN.ATM.CO2E.PC</td>\n",
              "      <td>1971</td>\n",
              "      <td>2.351828</td>\n",
              "    </tr>\n",
              "    <tr>\n",
              "      <th>474590</th>\n",
              "      <td>Mexico</td>\n",
              "      <td>MEX</td>\n",
              "      <td>CO2 emissions (metric tons per capita)</td>\n",
              "      <td>EN.ATM.CO2E.PC</td>\n",
              "      <td>1972</td>\n",
              "      <td>2.387510</td>\n",
              "    </tr>\n",
              "    <tr>\n",
              "      <th>544152</th>\n",
              "      <td>Mexico</td>\n",
              "      <td>MEX</td>\n",
              "      <td>CO2 emissions (metric tons per capita)</td>\n",
              "      <td>EN.ATM.CO2E.PC</td>\n",
              "      <td>1973</td>\n",
              "      <td>2.518930</td>\n",
              "    </tr>\n",
              "    <tr>\n",
              "      <th>614049</th>\n",
              "      <td>Mexico</td>\n",
              "      <td>MEX</td>\n",
              "      <td>CO2 emissions (metric tons per capita)</td>\n",
              "      <td>EN.ATM.CO2E.PC</td>\n",
              "      <td>1974</td>\n",
              "      <td>2.623227</td>\n",
              "    </tr>\n",
              "    <tr>\n",
              "      <th>685633</th>\n",
              "      <td>Mexico</td>\n",
              "      <td>MEX</td>\n",
              "      <td>CO2 emissions (metric tons per capita)</td>\n",
              "      <td>EN.ATM.CO2E.PC</td>\n",
              "      <td>1975</td>\n",
              "      <td>2.701919</td>\n",
              "    </tr>\n",
              "    <tr>\n",
              "      <th>758732</th>\n",
              "      <td>Mexico</td>\n",
              "      <td>MEX</td>\n",
              "      <td>CO2 emissions (metric tons per capita)</td>\n",
              "      <td>EN.ATM.CO2E.PC</td>\n",
              "      <td>1976</td>\n",
              "      <td>2.940565</td>\n",
              "    </tr>\n",
              "    <tr>\n",
              "      <th>833548</th>\n",
              "      <td>Mexico</td>\n",
              "      <td>MEX</td>\n",
              "      <td>CO2 emissions (metric tons per capita)</td>\n",
              "      <td>EN.ATM.CO2E.PC</td>\n",
              "      <td>1977</td>\n",
              "      <td>2.997427</td>\n",
              "    </tr>\n",
              "    <tr>\n",
              "      <th>909073</th>\n",
              "      <td>Mexico</td>\n",
              "      <td>MEX</td>\n",
              "      <td>CO2 emissions (metric tons per capita)</td>\n",
              "      <td>EN.ATM.CO2E.PC</td>\n",
              "      <td>1978</td>\n",
              "      <td>3.372165</td>\n",
              "    </tr>\n",
              "    <tr>\n",
              "      <th>984968</th>\n",
              "      <td>Mexico</td>\n",
              "      <td>MEX</td>\n",
              "      <td>CO2 emissions (metric tons per capita)</td>\n",
              "      <td>EN.ATM.CO2E.PC</td>\n",
              "      <td>1979</td>\n",
              "      <td>3.558568</td>\n",
              "    </tr>\n",
              "    <tr>\n",
              "      <th>1064307</th>\n",
              "      <td>Mexico</td>\n",
              "      <td>MEX</td>\n",
              "      <td>CO2 emissions (metric tons per capita)</td>\n",
              "      <td>EN.ATM.CO2E.PC</td>\n",
              "      <td>1980</td>\n",
              "      <td>3.872061</td>\n",
              "    </tr>\n",
              "    <tr>\n",
              "      <th>1147549</th>\n",
              "      <td>Mexico</td>\n",
              "      <td>MEX</td>\n",
              "      <td>CO2 emissions (metric tons per capita)</td>\n",
              "      <td>EN.ATM.CO2E.PC</td>\n",
              "      <td>1981</td>\n",
              "      <td>4.010245</td>\n",
              "    </tr>\n",
              "    <tr>\n",
              "      <th>1232322</th>\n",
              "      <td>Mexico</td>\n",
              "      <td>MEX</td>\n",
              "      <td>CO2 emissions (metric tons per capita)</td>\n",
              "      <td>EN.ATM.CO2E.PC</td>\n",
              "      <td>1982</td>\n",
              "      <td>4.201876</td>\n",
              "    </tr>\n",
              "    <tr>\n",
              "      <th>1317693</th>\n",
              "      <td>Mexico</td>\n",
              "      <td>MEX</td>\n",
              "      <td>CO2 emissions (metric tons per capita)</td>\n",
              "      <td>EN.ATM.CO2E.PC</td>\n",
              "      <td>1983</td>\n",
              "      <td>3.755969</td>\n",
              "    </tr>\n",
              "    <tr>\n",
              "      <th>1403350</th>\n",
              "      <td>Mexico</td>\n",
              "      <td>MEX</td>\n",
              "      <td>CO2 emissions (metric tons per capita)</td>\n",
              "      <td>EN.ATM.CO2E.PC</td>\n",
              "      <td>1984</td>\n",
              "      <td>3.666409</td>\n",
              "    </tr>\n",
              "    <tr>\n",
              "      <th>1490114</th>\n",
              "      <td>Mexico</td>\n",
              "      <td>MEX</td>\n",
              "      <td>CO2 emissions (metric tons per capita)</td>\n",
              "      <td>EN.ATM.CO2E.PC</td>\n",
              "      <td>1985</td>\n",
              "      <td>3.731135</td>\n",
              "    </tr>\n",
              "    <tr>\n",
              "      <th>1577884</th>\n",
              "      <td>Mexico</td>\n",
              "      <td>MEX</td>\n",
              "      <td>CO2 emissions (metric tons per capita)</td>\n",
              "      <td>EN.ATM.CO2E.PC</td>\n",
              "      <td>1986</td>\n",
              "      <td>3.731457</td>\n",
              "    </tr>\n",
              "    <tr>\n",
              "      <th>1666835</th>\n",
              "      <td>Mexico</td>\n",
              "      <td>MEX</td>\n",
              "      <td>CO2 emissions (metric tons per capita)</td>\n",
              "      <td>EN.ATM.CO2E.PC</td>\n",
              "      <td>1987</td>\n",
              "      <td>3.814731</td>\n",
              "    </tr>\n",
              "    <tr>\n",
              "      <th>1756101</th>\n",
              "      <td>Mexico</td>\n",
              "      <td>MEX</td>\n",
              "      <td>CO2 emissions (metric tons per capita)</td>\n",
              "      <td>EN.ATM.CO2E.PC</td>\n",
              "      <td>1988</td>\n",
              "      <td>3.734559</td>\n",
              "    </tr>\n",
              "    <tr>\n",
              "      <th>1847552</th>\n",
              "      <td>Mexico</td>\n",
              "      <td>MEX</td>\n",
              "      <td>CO2 emissions (metric tons per capita)</td>\n",
              "      <td>EN.ATM.CO2E.PC</td>\n",
              "      <td>1989</td>\n",
              "      <td>4.313120</td>\n",
              "    </tr>\n",
              "    <tr>\n",
              "      <th>1955816</th>\n",
              "      <td>Mexico</td>\n",
              "      <td>MEX</td>\n",
              "      <td>CO2 emissions (metric tons per capita)</td>\n",
              "      <td>EN.ATM.CO2E.PC</td>\n",
              "      <td>1990</td>\n",
              "      <td>3.671223</td>\n",
              "    </tr>\n",
              "    <tr>\n",
              "      <th>2072328</th>\n",
              "      <td>Mexico</td>\n",
              "      <td>MEX</td>\n",
              "      <td>CO2 emissions (metric tons per capita)</td>\n",
              "      <td>EN.ATM.CO2E.PC</td>\n",
              "      <td>1991</td>\n",
              "      <td>3.736513</td>\n",
              "    </tr>\n",
              "    <tr>\n",
              "      <th>2191685</th>\n",
              "      <td>Mexico</td>\n",
              "      <td>MEX</td>\n",
              "      <td>CO2 emissions (metric tons per capita)</td>\n",
              "      <td>EN.ATM.CO2E.PC</td>\n",
              "      <td>1992</td>\n",
              "      <td>3.688685</td>\n",
              "    </tr>\n",
              "    <tr>\n",
              "      <th>2315044</th>\n",
              "      <td>Mexico</td>\n",
              "      <td>MEX</td>\n",
              "      <td>CO2 emissions (metric tons per capita)</td>\n",
              "      <td>EN.ATM.CO2E.PC</td>\n",
              "      <td>1993</td>\n",
              "      <td>3.635808</td>\n",
              "    </tr>\n",
              "    <tr>\n",
              "      <th>2440119</th>\n",
              "      <td>Mexico</td>\n",
              "      <td>MEX</td>\n",
              "      <td>CO2 emissions (metric tons per capita)</td>\n",
              "      <td>EN.ATM.CO2E.PC</td>\n",
              "      <td>1994</td>\n",
              "      <td>3.756963</td>\n",
              "    </tr>\n",
              "    <tr>\n",
              "      <th>2571732</th>\n",
              "      <td>Mexico</td>\n",
              "      <td>MEX</td>\n",
              "      <td>CO2 emissions (metric tons per capita)</td>\n",
              "      <td>EN.ATM.CO2E.PC</td>\n",
              "      <td>1995</td>\n",
              "      <td>3.476675</td>\n",
              "    </tr>\n",
              "    <tr>\n",
              "      <th>2706921</th>\n",
              "      <td>Mexico</td>\n",
              "      <td>MEX</td>\n",
              "      <td>CO2 emissions (metric tons per capita)</td>\n",
              "      <td>EN.ATM.CO2E.PC</td>\n",
              "      <td>1996</td>\n",
              "      <td>3.550384</td>\n",
              "    </tr>\n",
              "    <tr>\n",
              "      <th>2842612</th>\n",
              "      <td>Mexico</td>\n",
              "      <td>MEX</td>\n",
              "      <td>CO2 emissions (metric tons per capita)</td>\n",
              "      <td>EN.ATM.CO2E.PC</td>\n",
              "      <td>1997</td>\n",
              "      <td>3.666520</td>\n",
              "    </tr>\n",
              "    <tr>\n",
              "      <th>2979538</th>\n",
              "      <td>Mexico</td>\n",
              "      <td>MEX</td>\n",
              "      <td>CO2 emissions (metric tons per capita)</td>\n",
              "      <td>EN.ATM.CO2E.PC</td>\n",
              "      <td>1998</td>\n",
              "      <td>3.754438</td>\n",
              "    </tr>\n",
              "    <tr>\n",
              "      <th>3119920</th>\n",
              "      <td>Mexico</td>\n",
              "      <td>MEX</td>\n",
              "      <td>CO2 emissions (metric tons per capita)</td>\n",
              "      <td>EN.ATM.CO2E.PC</td>\n",
              "      <td>1999</td>\n",
              "      <td>3.778221</td>\n",
              "    </tr>\n",
              "    <tr>\n",
              "      <th>3270472</th>\n",
              "      <td>Mexico</td>\n",
              "      <td>MEX</td>\n",
              "      <td>CO2 emissions (metric tons per capita)</td>\n",
              "      <td>EN.ATM.CO2E.PC</td>\n",
              "      <td>2000</td>\n",
              "      <td>3.720588</td>\n",
              "    </tr>\n",
              "    <tr>\n",
              "      <th>3422066</th>\n",
              "      <td>Mexico</td>\n",
              "      <td>MEX</td>\n",
              "      <td>CO2 emissions (metric tons per capita)</td>\n",
              "      <td>EN.ATM.CO2E.PC</td>\n",
              "      <td>2001</td>\n",
              "      <td>3.795452</td>\n",
              "    </tr>\n",
              "    <tr>\n",
              "      <th>3575541</th>\n",
              "      <td>Mexico</td>\n",
              "      <td>MEX</td>\n",
              "      <td>CO2 emissions (metric tons per capita)</td>\n",
              "      <td>EN.ATM.CO2E.PC</td>\n",
              "      <td>2002</td>\n",
              "      <td>3.711552</td>\n",
              "    </tr>\n",
              "    <tr>\n",
              "      <th>3729601</th>\n",
              "      <td>Mexico</td>\n",
              "      <td>MEX</td>\n",
              "      <td>CO2 emissions (metric tons per capita)</td>\n",
              "      <td>EN.ATM.CO2E.PC</td>\n",
              "      <td>2003</td>\n",
              "      <td>3.797592</td>\n",
              "    </tr>\n",
              "    <tr>\n",
              "      <th>3886072</th>\n",
              "      <td>Mexico</td>\n",
              "      <td>MEX</td>\n",
              "      <td>CO2 emissions (metric tons per capita)</td>\n",
              "      <td>EN.ATM.CO2E.PC</td>\n",
              "      <td>2004</td>\n",
              "      <td>3.803581</td>\n",
              "    </tr>\n",
              "    <tr>\n",
              "      <th>4058658</th>\n",
              "      <td>Mexico</td>\n",
              "      <td>MEX</td>\n",
              "      <td>CO2 emissions (metric tons per capita)</td>\n",
              "      <td>EN.ATM.CO2E.PC</td>\n",
              "      <td>2005</td>\n",
              "      <td>3.967619</td>\n",
              "    </tr>\n",
              "    <tr>\n",
              "      <th>4237045</th>\n",
              "      <td>Mexico</td>\n",
              "      <td>MEX</td>\n",
              "      <td>CO2 emissions (metric tons per capita)</td>\n",
              "      <td>EN.ATM.CO2E.PC</td>\n",
              "      <td>2006</td>\n",
              "      <td>3.997843</td>\n",
              "    </tr>\n",
              "    <tr>\n",
              "      <th>4416391</th>\n",
              "      <td>Mexico</td>\n",
              "      <td>MEX</td>\n",
              "      <td>CO2 emissions (metric tons per capita)</td>\n",
              "      <td>EN.ATM.CO2E.PC</td>\n",
              "      <td>2007</td>\n",
              "      <td>4.055762</td>\n",
              "    </tr>\n",
              "    <tr>\n",
              "      <th>4596283</th>\n",
              "      <td>Mexico</td>\n",
              "      <td>MEX</td>\n",
              "      <td>CO2 emissions (metric tons per capita)</td>\n",
              "      <td>EN.ATM.CO2E.PC</td>\n",
              "      <td>2008</td>\n",
              "      <td>4.126988</td>\n",
              "    </tr>\n",
              "    <tr>\n",
              "      <th>4775336</th>\n",
              "      <td>Mexico</td>\n",
              "      <td>MEX</td>\n",
              "      <td>CO2 emissions (metric tons per capita)</td>\n",
              "      <td>EN.ATM.CO2E.PC</td>\n",
              "      <td>2009</td>\n",
              "      <td>3.857150</td>\n",
              "    </tr>\n",
              "    <tr>\n",
              "      <th>4959437</th>\n",
              "      <td>Mexico</td>\n",
              "      <td>MEX</td>\n",
              "      <td>CO2 emissions (metric tons per capita)</td>\n",
              "      <td>EN.ATM.CO2E.PC</td>\n",
              "      <td>2010</td>\n",
              "      <td>3.752091</td>\n",
              "    </tr>\n",
              "    <tr>\n",
              "      <th>5139492</th>\n",
              "      <td>Mexico</td>\n",
              "      <td>MEX</td>\n",
              "      <td>CO2 emissions (metric tons per capita)</td>\n",
              "      <td>EN.ATM.CO2E.PC</td>\n",
              "      <td>2011</td>\n",
              "      <td>3.876108</td>\n",
              "    </tr>\n",
              "  </tbody>\n",
              "</table>\n",
              "</div>"
            ],
            "text/plain": [
              "        CountryName CountryCode  ...  Year     Value\n",
              "15235        Mexico         MEX  ...  1960  1.653382\n",
              "40674        Mexico         MEX  ...  1961  1.657750\n",
              "68468        Mexico         MEX  ...  1962  1.569744\n",
              "97033        Mexico         MEX  ...  1963  1.582305\n",
              "125944       Mexico         MEX  ...  1964  1.716861\n",
              "156997       Mexico         MEX  ...  1965  1.686278\n",
              "188629       Mexico         MEX  ...  1966  1.758944\n",
              "220929       Mexico         MEX  ...  1967  1.899699\n",
              "253505       Mexico         MEX  ...  1968  1.922314\n",
              "286365       Mexico         MEX  ...  1969  2.028579\n",
              "338919       Mexico         MEX  ...  1970  2.192453\n",
              "405377       Mexico         MEX  ...  1971  2.351828\n",
              "474590       Mexico         MEX  ...  1972  2.387510\n",
              "544152       Mexico         MEX  ...  1973  2.518930\n",
              "614049       Mexico         MEX  ...  1974  2.623227\n",
              "685633       Mexico         MEX  ...  1975  2.701919\n",
              "758732       Mexico         MEX  ...  1976  2.940565\n",
              "833548       Mexico         MEX  ...  1977  2.997427\n",
              "909073       Mexico         MEX  ...  1978  3.372165\n",
              "984968       Mexico         MEX  ...  1979  3.558568\n",
              "1064307      Mexico         MEX  ...  1980  3.872061\n",
              "1147549      Mexico         MEX  ...  1981  4.010245\n",
              "1232322      Mexico         MEX  ...  1982  4.201876\n",
              "1317693      Mexico         MEX  ...  1983  3.755969\n",
              "1403350      Mexico         MEX  ...  1984  3.666409\n",
              "1490114      Mexico         MEX  ...  1985  3.731135\n",
              "1577884      Mexico         MEX  ...  1986  3.731457\n",
              "1666835      Mexico         MEX  ...  1987  3.814731\n",
              "1756101      Mexico         MEX  ...  1988  3.734559\n",
              "1847552      Mexico         MEX  ...  1989  4.313120\n",
              "1955816      Mexico         MEX  ...  1990  3.671223\n",
              "2072328      Mexico         MEX  ...  1991  3.736513\n",
              "2191685      Mexico         MEX  ...  1992  3.688685\n",
              "2315044      Mexico         MEX  ...  1993  3.635808\n",
              "2440119      Mexico         MEX  ...  1994  3.756963\n",
              "2571732      Mexico         MEX  ...  1995  3.476675\n",
              "2706921      Mexico         MEX  ...  1996  3.550384\n",
              "2842612      Mexico         MEX  ...  1997  3.666520\n",
              "2979538      Mexico         MEX  ...  1998  3.754438\n",
              "3119920      Mexico         MEX  ...  1999  3.778221\n",
              "3270472      Mexico         MEX  ...  2000  3.720588\n",
              "3422066      Mexico         MEX  ...  2001  3.795452\n",
              "3575541      Mexico         MEX  ...  2002  3.711552\n",
              "3729601      Mexico         MEX  ...  2003  3.797592\n",
              "3886072      Mexico         MEX  ...  2004  3.803581\n",
              "4058658      Mexico         MEX  ...  2005  3.967619\n",
              "4237045      Mexico         MEX  ...  2006  3.997843\n",
              "4416391      Mexico         MEX  ...  2007  4.055762\n",
              "4596283      Mexico         MEX  ...  2008  4.126988\n",
              "4775336      Mexico         MEX  ...  2009  3.857150\n",
              "4959437      Mexico         MEX  ...  2010  3.752091\n",
              "5139492      Mexico         MEX  ...  2011  3.876108\n",
              "\n",
              "[52 rows x 6 columns]"
            ]
          },
          "metadata": {},
          "execution_count": 61
        }
      ]
    },
    {
      "cell_type": "code",
      "metadata": {
        "colab": {
          "base_uri": "https://localhost:8080/",
          "height": 262
        },
        "id": "XKvc8Vlw_sbv",
        "outputId": "3c99214d-5143-47a9-b22e-fce0fce35b8e"
      },
      "source": [
        "plt.bar(df_CO2_emissiones_mexico['Year'], df_CO2_emissiones_mexico['Value'])\n",
        "plt.show()"
      ],
      "execution_count": 62,
      "outputs": [
        {
          "output_type": "display_data",
          "data": {
            "image/png": "[encoded data removed]",
            "text/plain": [
              "<Figure size 432x288 with 1 Axes>"
            ]
          },
          "metadata": {}
        }
      ]
    },
    {
      "cell_type": "code",
      "metadata": {
        "colab": {
          "base_uri": "https://localhost:8080/",
          "height": 617
        },
        "id": "TdkyquYIAK_X",
        "outputId": "94d60b47-bd60-4fdf-e963-3ef098563c62"
      },
      "source": [
        "plt.figure(figsize=(10,10))\n",
        "plt.plot(df_CO2_emissiones_mexico['Year'], df_CO2_emissiones_mexico['Value'])\n",
        "plt.xlabel('Año')\n",
        "plt.ylabel('Emisones CO2 en Toneladas')\n",
        "plt.title('Emisiones de CO2 México')\n",
        "plt.show()"
      ],
      "execution_count": 65,
      "outputs": [
        {
          "output_type": "display_data",
          "data": {
            "image/png": "[encoded data removed]",
            "text/plain": [
              "<Figure size 720x720 with 1 Axes>"
            ]
          },
          "metadata": {}
        }
      ]
    },
    {
      "cell_type": "code",
      "metadata": {
        "colab": {
          "base_uri": "https://localhost:8080/",
          "height": 204
        },
        "id": "2HmEdyM_BcS_",
        "outputId": "aad1ead0-b916-460a-98e0-0df21b3a0bd9"
      },
      "source": [
        "hist_indicator = \"CO2 emissions (metric\"\n",
        "hist_year = 2008 \n",
        "\n",
        "mask1 = df['IndicatorName'].str.contains(his_indicator, regex= False)\n",
        "mask2 = df['Year'].isin([hist_year])\n",
        "\n",
        "co2_2008 = df[mask1 & mask2]\n",
        "co2_2008.head()"
      ],
      "execution_count": 69,
      "outputs": [
        {
          "output_type": "execute_result",
          "data": {
            "text/html": [
              "<div>\n",
              "<style scoped>\n",
              "    .dataframe tbody tr th:only-of-type {\n",
              "        vertical-align: middle;\n",
              "    }\n",
              "\n",
              "    .dataframe tbody tr th {\n",
              "        vertical-align: top;\n",
              "    }\n",
              "\n",
              "    .dataframe thead th {\n",
              "        text-align: right;\n",
              "    }\n",
              "</style>\n",
              "<table border=\"1\" class=\"dataframe\">\n",
              "  <thead>\n",
              "    <tr style=\"text-align: right;\">\n",
              "      <th></th>\n",
              "      <th>CountryName</th>\n",
              "      <th>CountryCode</th>\n",
              "      <th>IndicatorName</th>\n",
              "      <th>IndicatorCode</th>\n",
              "      <th>Year</th>\n",
              "      <th>Value</th>\n",
              "    </tr>\n",
              "  </thead>\n",
              "  <tbody>\n",
              "    <tr>\n",
              "      <th>4480667</th>\n",
              "      <td>Arab World</td>\n",
              "      <td>ARB</td>\n",
              "      <td>CO2 emissions (metric tons per capita)</td>\n",
              "      <td>EN.ATM.CO2E.PC</td>\n",
              "      <td>2008</td>\n",
              "      <td>4.373573</td>\n",
              "    </tr>\n",
              "    <tr>\n",
              "      <th>4481208</th>\n",
              "      <td>Caribbean small states</td>\n",
              "      <td>CSS</td>\n",
              "      <td>CO2 emissions (metric tons per capita)</td>\n",
              "      <td>EN.ATM.CO2E.PC</td>\n",
              "      <td>2008</td>\n",
              "      <td>9.971533</td>\n",
              "    </tr>\n",
              "    <tr>\n",
              "      <th>4481740</th>\n",
              "      <td>Central Europe and the Baltics</td>\n",
              "      <td>CEB</td>\n",
              "      <td>CO2 emissions (metric tons per capita)</td>\n",
              "      <td>EN.ATM.CO2E.PC</td>\n",
              "      <td>2008</td>\n",
              "      <td>7.152044</td>\n",
              "    </tr>\n",
              "    <tr>\n",
              "      <th>4482357</th>\n",
              "      <td>East Asia &amp; Pacific (all income levels)</td>\n",
              "      <td>EAS</td>\n",
              "      <td>CO2 emissions (metric tons per capita)</td>\n",
              "      <td>EN.ATM.CO2E.PC</td>\n",
              "      <td>2008</td>\n",
              "      <td>4.917487</td>\n",
              "    </tr>\n",
              "    <tr>\n",
              "      <th>4482952</th>\n",
              "      <td>East Asia &amp; Pacific (developing only)</td>\n",
              "      <td>EAP</td>\n",
              "      <td>CO2 emissions (metric tons per capita)</td>\n",
              "      <td>EN.ATM.CO2E.PC</td>\n",
              "      <td>2008</td>\n",
              "      <td>4.252016</td>\n",
              "    </tr>\n",
              "  </tbody>\n",
              "</table>\n",
              "</div>"
            ],
            "text/plain": [
              "                                     CountryName CountryCode  ...  Year     Value\n",
              "4480667                               Arab World         ARB  ...  2008  4.373573\n",
              "4481208                   Caribbean small states         CSS  ...  2008  9.971533\n",
              "4481740           Central Europe and the Baltics         CEB  ...  2008  7.152044\n",
              "4482357  East Asia & Pacific (all income levels)         EAS  ...  2008  4.917487\n",
              "4482952    East Asia & Pacific (developing only)         EAP  ...  2008  4.252016\n",
              "\n",
              "[5 rows x 6 columns]"
            ]
          },
          "metadata": {},
          "execution_count": 69
        }
      ]
    },
    {
      "cell_type": "code",
      "metadata": {
        "id": "l7z6noMUDqta"
      },
      "source": [
        "mex_assigned_co2 = float(co2_2008[co2_2008['CountryCode'] == 'MEX']['Value'])"
      ],
      "execution_count": 88,
      "outputs": []
    },
    {
      "cell_type": "code",
      "metadata": {
        "colab": {
          "base_uri": "https://localhost:8080/"
        },
        "id": "1BJ8J_EYFAwO",
        "outputId": "d3d51e31-abac-46f9-97c4-d2731cda688f"
      },
      "source": [
        ""
      ],
      "execution_count": 86,
      "outputs": [
        {
          "output_type": "execute_result",
          "data": {
            "text/plain": [
              "48.60161977073529"
            ]
          },
          "metadata": {},
          "execution_count": 86
        }
      ]
    },
    {
      "cell_type": "code",
      "metadata": {
        "colab": {
          "base_uri": "https://localhost:8080/",
          "height": 262
        },
        "id": "U1sJPSeiCNV4",
        "outputId": "610ed7db-49d2-41d3-aeb1-01bf07fd9166"
      },
      "source": [
        "fig, ax = plt.subplots()\n",
        "\n",
        "ax.annotate(\"Mexico -> \" + str(round(mex_assigned_co2, 2)), \n",
        "            xy=(mex_assigned_co2,10), xycoords = \"data\", \n",
        "            xytext=(mex_assigned_co2+5,80), textcoords='data',\n",
        "            arrowprops=dict(arrowstyle=\"->\",\n",
        "                            connectionstyle=\"arc3\"),\n",
        "            )\n",
        "plt.hist(co2_2008['Value'], 10, facecolor='green')\n",
        "plt.grid(True)\n",
        "plt.show()"
      ],
      "execution_count": 97,
      "outputs": [
        {
          "output_type": "display_data",
          "data": {
            "image/png": "[encoded data removed]",
            "text/plain": [
              "<Figure size 432x288 with 1 Axes>"
            ]
          },
          "metadata": {}
        }
      ]
    }
  ]
}